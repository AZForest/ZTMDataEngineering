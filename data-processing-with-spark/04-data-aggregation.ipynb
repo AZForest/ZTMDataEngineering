{
 "cells": [
  {
   "cell_type": "code",
   "execution_count": 1,
   "id": "13212325-8b74-44ed-9c1f-00aeb61e9da4",
   "metadata": {},
   "outputs": [
    {
     "name": "stderr",
     "output_type": "stream",
     "text": [
      "25/08/17 14:41:13 WARN SparkSession: Using an existing Spark session; only runtime SQL configurations will take effect.\n"
     ]
    }
   ],
   "source": [
    "from pyspark.sql import SparkSession\n",
    "\n",
    "spark = SparkSession.builder \\\n",
    "    .appName(\"Read Inside Airbnb data\") \\\n",
    "    .getOrCreate()"
   ]
  },
  {
   "cell_type": "code",
   "execution_count": 2,
   "id": "995bb75d-498d-4add-ae3b-740e0ce6acc1",
   "metadata": {},
   "outputs": [
    {
     "name": "stderr",
     "output_type": "stream",
     "text": [
      "                                                                                "
     ]
    }
   ],
   "source": [
    "listings = spark.read.csv(\"data/listings.csv.gz\", \n",
    "    header=True,\n",
    "    inferSchema=True,\n",
    "    sep=\",\",\n",
    "    quote='\"',\n",
    "    escape='\"',\n",
    "    multiLine=True,\n",
    "    mode=\"PERMISSIVE\"\n",
    ")"
   ]
  },
  {
   "cell_type": "code",
   "execution_count": 3,
   "id": "1dbfa8c7-0504-49d7-b0e4-a3f0586aa567",
   "metadata": {},
   "outputs": [
    {
     "name": "stderr",
     "output_type": "stream",
     "text": [
      "[Stage 2:>                                                          (0 + 1) / 1]"
     ]
    },
    {
     "name": "stdout",
     "output_type": "stream",
     "text": [
      "+----------------------------------+-----+\n",
      "|property_type                     |count|\n",
      "+----------------------------------+-----+\n",
      "|Private room in lighthouse        |2    |\n",
      "|Private room in loft              |154  |\n",
      "|Private room in earthen home      |2    |\n",
      "|Entire chalet                     |5    |\n",
      "|Earthen home                      |1    |\n",
      "|Farm stay                         |4    |\n",
      "|Entire rental unit                |40799|\n",
      "|Shared room in hostel             |61   |\n",
      "|Shared room                       |1    |\n",
      "|Private room in condo             |3255 |\n",
      "|Room in boutique hotel            |229  |\n",
      "|Private room in religious building|4    |\n",
      "|Room in bed and breakfast         |18   |\n",
      "|Private room in casa particular   |62   |\n",
      "|Private room in bungalow          |63   |\n",
      "|Entire cabin                      |50   |\n",
      "|Entire guesthouse                 |226  |\n",
      "|Hut                               |4    |\n",
      "|Private room in nature lodge      |4    |\n",
      "|Entire guest suite                |175  |\n",
      "+----------------------------------+-----+\n",
      "only showing top 20 rows\n"
     ]
    },
    {
     "name": "stderr",
     "output_type": "stream",
     "text": [
      "                                                                                "
     ]
    }
   ],
   "source": [
    "listings \\\n",
    "  .groupby(listings.property_type) \\\n",
    "  .count() \\\n",
    "  .show(truncate=False)"
   ]
  },
  {
   "cell_type": "code",
   "execution_count": 4,
   "id": "ad451cda-540b-43fc-ac11-e382cb0f7af6",
   "metadata": {},
   "outputs": [
    {
     "name": "stderr",
     "output_type": "stream",
     "text": [
      "[Stage 5:>                                                          (0 + 1) / 1]"
     ]
    },
    {
     "name": "stdout",
     "output_type": "stream",
     "text": [
      "+----------------------------------+-----+\n",
      "|property_type                     |count|\n",
      "+----------------------------------+-----+\n",
      "|Entire rental unit                |40799|\n",
      "|Private room in rental unit       |14573|\n",
      "|Private room in home              |11826|\n",
      "|Entire home                       |8938 |\n",
      "|Entire condo                      |8438 |\n",
      "|Private room in condo             |3255 |\n",
      "|Entire serviced apartment         |1840 |\n",
      "|Private room in townhouse         |1189 |\n",
      "|Entire townhouse                  |1069 |\n",
      "|Room in hotel                     |1042 |\n",
      "|Private room in bed and breakfast |495  |\n",
      "|Private room in guesthouse        |371  |\n",
      "|Entire loft                       |339  |\n",
      "|Room in boutique hotel            |229  |\n",
      "|Entire guesthouse                 |226  |\n",
      "|Entire guest suite                |175  |\n",
      "|Private room in guest suite       |170  |\n",
      "|Private room in loft              |154  |\n",
      "|Private room in serviced apartment|154  |\n",
      "|Private room                      |103  |\n",
      "+----------------------------------+-----+\n",
      "only showing top 20 rows\n"
     ]
    },
    {
     "name": "stderr",
     "output_type": "stream",
     "text": [
      "                                                                                "
     ]
    }
   ],
   "source": [
    "import pyspark.sql.functions as F\n",
    "\n",
    "listings \\\n",
    "  .groupby(listings.property_type) \\\n",
    "  .agg(\n",
    "    F.count('property_type').alias('count')\n",
    "  ) \\\n",
    "  .orderBy('count', ascending=[False]) \\\n",
    "  .show(truncate=False)"
   ]
  },
  {
   "cell_type": "code",
   "execution_count": 6,
   "id": "ab09d52a-6d8b-4cbf-b5e3-8690689597da",
   "metadata": {},
   "outputs": [
    {
     "name": "stderr",
     "output_type": "stream",
     "text": [
      "[Stage 11:>                                                         (0 + 1) / 1]"
     ]
    },
    {
     "name": "stdout",
     "output_type": "stream",
     "text": [
      "+--------------------+-----+---------------------------+\n",
      "|       property_type|count|avg(review_scores_location)|\n",
      "+--------------------+-----+---------------------------+\n",
      "|  Entire rental unit|40799|          4.733095834431922|\n",
      "|Private room in r...|14573|          4.723925292814142|\n",
      "|Private room in home|11826|          4.701917440156306|\n",
      "|         Entire home| 8938|          4.726180264430801|\n",
      "|        Entire condo| 8438|          4.778066335437068|\n",
      "|Private room in c...| 3255|         4.7702538787023885|\n",
      "|Entire serviced a...| 1840|          4.718870662460569|\n",
      "|Private room in t...| 1189|          4.762151898734181|\n",
      "|    Entire townhouse| 1069|          4.817585836909877|\n",
      "|       Room in hotel| 1042|          4.618212996389897|\n",
      "|Private room in b...|  495|          4.741178247734139|\n",
      "|Private room in g...|  371|          4.583309352517987|\n",
      "|         Entire loft|  339|           4.80874587458746|\n",
      "|Room in boutique ...|  229|          4.698913043478261|\n",
      "|   Entire guesthouse|  226|          4.693316062176168|\n",
      "|  Entire guest suite|  175|          4.756178343949044|\n",
      "|Private room in g...|  170|          4.803333333333334|\n",
      "|Private room in loft|  154|          4.766750000000002|\n",
      "|Private room in s...|  154|          4.486464646464647|\n",
      "|        Private room|  103|          4.750833333333331|\n",
      "+--------------------+-----+---------------------------+\n",
      "only showing top 20 rows\n"
     ]
    },
    {
     "name": "stderr",
     "output_type": "stream",
     "text": [
      "                                                                                "
     ]
    }
   ],
   "source": [
    "listings \\\n",
    "  .groupby(listings.property_type) \\\n",
    "  .agg(\n",
    "    F.count('property_type').alias('count'),\n",
    "    F.avg('review_scores_location')\n",
    "  ) \\\n",
    "  .orderBy('count', ascending=[False]) \\\n",
    "  .show(truncate=True)"
   ]
  },
  {
   "cell_type": "code",
   "execution_count": 7,
   "id": "0b3399f0-35da-427c-9ebd-ae3dd87f3acb",
   "metadata": {},
   "outputs": [
    {
     "name": "stderr",
     "output_type": "stream",
     "text": [
      "                                                                                "
     ]
    }
   ],
   "source": [
    "reviews = spark.read.csv(\"data/reviews.csv.gz\", \n",
    "    header=True,\n",
    "    inferSchema=True,\n",
    "    sep=\",\",\n",
    "    quote='\"',\n",
    "    escape='\"',\n",
    "    multiLine=True,\n",
    "    mode=\"PERMISSIVE\"\n",
    ")"
   ]
  },
  {
   "cell_type": "code",
   "execution_count": 8,
   "id": "cc89f2dd-217c-40da-b6e5-d6d05d317cc0",
   "metadata": {},
   "outputs": [
    {
     "name": "stdout",
     "output_type": "stream",
     "text": [
      "StructField('listing_id', LongType(), True)\n",
      "StructField('id', LongType(), True)\n",
      "StructField('date', DateType(), True)\n",
      "StructField('reviewer_id', IntegerType(), True)\n",
      "StructField('reviewer_name', StringType(), True)\n",
      "StructField('comments', StringType(), True)\n"
     ]
    }
   ],
   "source": [
    "for field in reviews.schema:\n",
    "    print(field)"
   ]
  },
  {
   "cell_type": "code",
   "execution_count": 9,
   "id": "714026a8-9565-4fea-a71f-74a5a5b0b538",
   "metadata": {},
   "outputs": [],
   "source": [
    "listings_reviews = listings.join(\n",
    "    reviews, listings.id == reviews.listing_id, how='inner'\n",
    ")"
   ]
  },
  {
   "cell_type": "code",
   "execution_count": 11,
   "id": "4246ce10-667c-42d3-8593-b2d8e7fb7a23",
   "metadata": {},
   "outputs": [],
   "source": [
    "# listings_reviews \\\n",
    "#   .groupBy('id') \\\n",
    "#   .agg(\n",
    "#     F.count('id').alias('num_reviews')\n",
    "#   ) \\\n",
    "#   .show()"
   ]
  },
  {
   "cell_type": "code",
   "execution_count": 12,
   "id": "b21557f5-e2db-4751-a26d-f174022c0099",
   "metadata": {},
   "outputs": [
    {
     "name": "stderr",
     "output_type": "stream",
     "text": [
      "[Stage 17:>                                                         (0 + 1) / 1]"
     ]
    },
    {
     "name": "stdout",
     "output_type": "stream",
     "text": [
      "+--------+--------------------------------------------------+-----------+\n",
      "|id      |name                                              |num_reviews|\n",
      "+--------+--------------------------------------------------+-----------+\n",
      "|47408549|Double Room+ Ensuite                              |1855       |\n",
      "|30760930|Double Garden View room - London House Hotel***   |1682       |\n",
      "|43120947|Private double room with en suite facilities      |1615       |\n",
      "|19670926|Locke Studio Apartment at Leman Locke             |1436       |\n",
      "|45006692|Budget Double Room In Colliers Hotel.             |1433       |\n",
      "|1436172 |Cosy Double in Kings Cross Houseshare nr Eurostar |1195       |\n",
      "|2126708 |London's best transport hub 5 mins walk! Safe too!|1122       |\n",
      "|1436177 |En-suite Double in Kings Cross Houseshare Eurostar|1005       |\n",
      "|47438714|KX Basic- Small Double- shared bathroom           |978        |\n",
      "|3855375 |Double in Kings Cross Houseshare nr Eurostar      |973        |\n",
      "|46233904|Superior Studio, avg size 23.5 msq                |964        |\n",
      "|2659707 |Large Room + Private Bathroom, E3.                |963        |\n",
      "|4748665 |Single bedroom near London Stratford              |917        |\n",
      "|27833488|S - Heathrow Airport Terminal 2 3 4 5 Hatton Cross|914        |\n",
      "|42081759|Micro Studio at Locke at Broken Wharf             |899        |\n",
      "|5266466 |Large London Room, Ensuite Bathroom,TV & Breakfast|885        |\n",
      "|2025844 |Family Friendly Central London Flat               |840        |\n",
      "|4332039 |Single bedroom in old East London                 |830        |\n",
      "|4461052 |Bright room with private bath by London central!  |804        |\n",
      "|107051  |JESSIE the narrowboat in Little Venice            |775        |\n",
      "+--------+--------------------------------------------------+-----------+\n",
      "only showing top 20 rows\n"
     ]
    },
    {
     "name": "stderr",
     "output_type": "stream",
     "text": [
      "                                                                                "
     ]
    }
   ],
   "source": [
    "reviews_per_listing = listings_reviews \\\n",
    "  .groupBy(listings.id, listings.name) \\\n",
    "  .agg(\n",
    "    F.count(reviews.id).alias('num_reviews')\n",
    "  ) \\\n",
    "  .orderBy('num_reviews', ascending=False) \\\n",
    "  .show(truncate=False)"
   ]
  },
  {
   "cell_type": "code",
   "execution_count": null,
   "id": "81ae3270-7548-4145-931a-9e4fcbc0af78",
   "metadata": {},
   "outputs": [],
   "source": []
  }
 ],
 "metadata": {
  "kernelspec": {
   "display_name": "Python 3 (ipykernel)",
   "language": "python",
   "name": "python3"
  },
  "language_info": {
   "codemirror_mode": {
    "name": "ipython",
    "version": 3
   },
   "file_extension": ".py",
   "mimetype": "text/x-python",
   "name": "python",
   "nbconvert_exporter": "python",
   "pygments_lexer": "ipython3",
   "version": "3.13.5"
  }
 },
 "nbformat": 4,
 "nbformat_minor": 5
}
