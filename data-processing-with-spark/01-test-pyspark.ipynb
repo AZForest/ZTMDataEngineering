{
 "cells": [
  {
   "cell_type": "code",
   "execution_count": 2,
   "id": "2ed39072-51b2-41e7-9829-b67a61c850e3",
   "metadata": {},
   "outputs": [
    {
     "name": "stderr",
     "output_type": "stream",
     "text": [
      "25/08/12 19:11:05 WARN SparkSession: Using an existing Spark session; only runtime SQL configurations will take effect.\n"
     ]
    }
   ],
   "source": [
    "from pyspark.sql import SparkSession\n",
    "\n",
    "spark = SparkSession.builder \\\n",
    "            .appName(\"First Spark application\") \\\n",
    "            .getOrCreate()"
   ]
  },
  {
   "cell_type": "code",
   "execution_count": 4,
   "id": "1043eb46-9a1e-4a37-99e9-8be4290d684e",
   "metadata": {},
   "outputs": [],
   "source": [
    "data = [\n",
    "    {\"userId\": 1, \"paymentAmount\": 100.0, \"date\": \"2025-01-01\"},\n",
    "    {\"userId\": 2, \"paymentAmount\": 150.5, \"date\": \"2025-01-02\"},\n",
    "    {\"userId\": 3, \"paymentAmount\": 200.75, \"date\": \"2025-01-03\"},\n",
    "    {\"userId\": 2, \"paymentAmount\": 50.25, \"date\": \"2025-01-04\"},\n",
    "    {\"userId\": 1, \"paymentAmount\": 80.0, \"date\": \"2025-01-05\"}\n",
    "]\n",
    "\n",
    "df = spark.createDataFrame(data)"
   ]
  },
  {
   "cell_type": "code",
   "execution_count": 5,
   "id": "b03ff23c-b519-4150-aeed-1d1658eb51e7",
   "metadata": {},
   "outputs": [
    {
     "name": "stderr",
     "output_type": "stream",
     "text": [
      "[Stage 0:>                                                          (0 + 1) / 1]"
     ]
    },
    {
     "name": "stdout",
     "output_type": "stream",
     "text": [
      "+----------+-------------+------+\n",
      "|      date|paymentAmount|userId|\n",
      "+----------+-------------+------+\n",
      "|2025-01-01|        100.0|     1|\n",
      "|2025-01-02|        150.5|     2|\n",
      "|2025-01-03|       200.75|     3|\n",
      "|2025-01-04|        50.25|     2|\n",
      "|2025-01-05|         80.0|     1|\n",
      "+----------+-------------+------+\n",
      "\n"
     ]
    },
    {
     "name": "stderr",
     "output_type": "stream",
     "text": [
      "                                                                                "
     ]
    }
   ],
   "source": [
    "df.show()"
   ]
  },
  {
   "cell_type": "code",
   "execution_count": 6,
   "id": "b0460292-7289-40bd-8544-f34c2cdc5a75",
   "metadata": {},
   "outputs": [
    {
     "data": {
      "text/plain": [
       "5"
      ]
     },
     "execution_count": 6,
     "metadata": {},
     "output_type": "execute_result"
    }
   ],
   "source": [
    "df.count()"
   ]
  },
  {
   "cell_type": "code",
   "execution_count": 7,
   "id": "322a0ec5-4837-42b5-85cf-db0318486818",
   "metadata": {},
   "outputs": [
    {
     "name": "stdout",
     "output_type": "stream",
     "text": [
      "+------+------+----------+\n",
      "|userId|amount|      date|\n",
      "+------+------+----------+\n",
      "|     1| 100.0|2025-01-01|\n",
      "|     2| 150.5|2025-01-02|\n",
      "|     3|200.75|2025-01-03|\n",
      "+------+------+----------+\n",
      "only showing top 3 rows\n"
     ]
    }
   ],
   "source": [
    "data = data_values = [\n",
    "    (1, 100.0, \"2025-01-01\"),\n",
    "    (2, 150.5, \"2025-01-02\"),\n",
    "    (3, 200.75, \"2025-01-03\"),\n",
    "    (2, 50.25, \"2025-01-04\"),\n",
    "    (1, 80.0, \"2025-01-05\")\n",
    "]\n",
    "\n",
    "df = spark.createDataFrame(data, [\"userId\", \"amount\", \"date\"])\n",
    "df.show(3)\n",
    "    "
   ]
  },
  {
   "cell_type": "code",
   "execution_count": null,
   "id": "35f8e8b9-ad47-4dae-b29a-d309a9e081d5",
   "metadata": {},
   "outputs": [],
   "source": [
    "spark.stop()"
   ]
  }
 ],
 "metadata": {
  "kernelspec": {
   "display_name": "Python 3 (ipykernel)",
   "language": "python",
   "name": "python3"
  },
  "language_info": {
   "codemirror_mode": {
    "name": "ipython",
    "version": 3
   },
   "file_extension": ".py",
   "mimetype": "text/x-python",
   "name": "python",
   "nbconvert_exporter": "python",
   "pygments_lexer": "ipython3",
   "version": "3.13.5"
  }
 },
 "nbformat": 4,
 "nbformat_minor": 5
}
