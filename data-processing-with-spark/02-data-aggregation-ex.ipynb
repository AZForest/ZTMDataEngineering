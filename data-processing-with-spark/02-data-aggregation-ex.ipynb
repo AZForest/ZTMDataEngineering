{
 "cells": [
  {
   "cell_type": "code",
   "execution_count": 1,
   "id": "2c7f5e8a-3d82-489c-b605-f775d24612ca",
   "metadata": {},
   "outputs": [
    {
     "name": "stderr",
     "output_type": "stream",
     "text": [
      "25/08/17 15:19:09 WARN SparkSession: Using an existing Spark session; only runtime SQL configurations will take effect.\n"
     ]
    }
   ],
   "source": [
    "from pyspark.sql import SparkSession\n",
    "\n",
    "spark = SparkSession.builder \\\n",
    "    .appName(\"Spark aggregation functions\") \\\n",
    "    .getOrCreate()"
   ]
  },
  {
   "cell_type": "code",
   "execution_count": 4,
   "id": "00c2e81f-d1ad-4cdf-bf30-b8ae3f4b1429",
   "metadata": {},
   "outputs": [
    {
     "name": "stderr",
     "output_type": "stream",
     "text": [
      "[Stage 1:>                                                          (0 + 1) / 1]"
     ]
    },
    {
     "name": "stdout",
     "output_type": "stream",
     "text": [
      "root\n",
      " |-- id: long (nullable = true)\n",
      " |-- listing_url: string (nullable = true)\n",
      " |-- scrape_id: long (nullable = true)\n",
      " |-- last_scraped: date (nullable = true)\n",
      " |-- source: string (nullable = true)\n",
      " |-- name: string (nullable = true)\n",
      " |-- description: string (nullable = true)\n",
      " |-- neighborhood_overview: string (nullable = true)\n",
      " |-- picture_url: string (nullable = true)\n",
      " |-- host_id: integer (nullable = true)\n",
      " |-- host_url: string (nullable = true)\n",
      " |-- host_name: string (nullable = true)\n",
      " |-- host_since: date (nullable = true)\n",
      " |-- host_location: string (nullable = true)\n",
      " |-- host_about: string (nullable = true)\n",
      " |-- host_response_time: string (nullable = true)\n",
      " |-- host_response_rate: string (nullable = true)\n",
      " |-- host_acceptance_rate: string (nullable = true)\n",
      " |-- host_is_superhost: string (nullable = true)\n",
      " |-- host_thumbnail_url: string (nullable = true)\n",
      " |-- host_picture_url: string (nullable = true)\n",
      " |-- host_neighbourhood: string (nullable = true)\n",
      " |-- host_listings_count: integer (nullable = true)\n",
      " |-- host_total_listings_count: integer (nullable = true)\n",
      " |-- host_verifications: string (nullable = true)\n",
      " |-- host_has_profile_pic: string (nullable = true)\n",
      " |-- host_identity_verified: string (nullable = true)\n",
      " |-- neighbourhood: string (nullable = true)\n",
      " |-- neighbourhood_cleansed: string (nullable = true)\n",
      " |-- neighbourhood_group_cleansed: string (nullable = true)\n",
      " |-- latitude: double (nullable = true)\n",
      " |-- longitude: double (nullable = true)\n",
      " |-- property_type: string (nullable = true)\n",
      " |-- room_type: string (nullable = true)\n",
      " |-- accommodates: integer (nullable = true)\n",
      " |-- bathrooms: double (nullable = true)\n",
      " |-- bathrooms_text: string (nullable = true)\n",
      " |-- bedrooms: integer (nullable = true)\n",
      " |-- beds: integer (nullable = true)\n",
      " |-- amenities: string (nullable = true)\n",
      " |-- price: string (nullable = true)\n",
      " |-- minimum_nights: integer (nullable = true)\n",
      " |-- maximum_nights: integer (nullable = true)\n",
      " |-- minimum_minimum_nights: integer (nullable = true)\n",
      " |-- maximum_minimum_nights: integer (nullable = true)\n",
      " |-- minimum_maximum_nights: integer (nullable = true)\n",
      " |-- maximum_maximum_nights: integer (nullable = true)\n",
      " |-- minimum_nights_avg_ntm: double (nullable = true)\n",
      " |-- maximum_nights_avg_ntm: double (nullable = true)\n",
      " |-- calendar_updated: string (nullable = true)\n",
      " |-- has_availability: string (nullable = true)\n",
      " |-- availability_30: integer (nullable = true)\n",
      " |-- availability_60: integer (nullable = true)\n",
      " |-- availability_90: integer (nullable = true)\n",
      " |-- availability_365: integer (nullable = true)\n",
      " |-- calendar_last_scraped: date (nullable = true)\n",
      " |-- number_of_reviews: integer (nullable = true)\n",
      " |-- number_of_reviews_ltm: integer (nullable = true)\n",
      " |-- number_of_reviews_l30d: integer (nullable = true)\n",
      " |-- availability_eoy: integer (nullable = true)\n",
      " |-- number_of_reviews_ly: integer (nullable = true)\n",
      " |-- estimated_occupancy_l365d: integer (nullable = true)\n",
      " |-- estimated_revenue_l365d: integer (nullable = true)\n",
      " |-- first_review: date (nullable = true)\n",
      " |-- last_review: date (nullable = true)\n",
      " |-- review_scores_rating: double (nullable = true)\n",
      " |-- review_scores_accuracy: double (nullable = true)\n",
      " |-- review_scores_cleanliness: double (nullable = true)\n",
      " |-- review_scores_checkin: double (nullable = true)\n",
      " |-- review_scores_communication: double (nullable = true)\n",
      " |-- review_scores_location: double (nullable = true)\n",
      " |-- review_scores_value: double (nullable = true)\n",
      " |-- license: string (nullable = true)\n",
      " |-- instant_bookable: string (nullable = true)\n",
      " |-- calculated_host_listings_count: integer (nullable = true)\n",
      " |-- calculated_host_listings_count_entire_homes: integer (nullable = true)\n",
      " |-- calculated_host_listings_count_private_rooms: integer (nullable = true)\n",
      " |-- calculated_host_listings_count_shared_rooms: integer (nullable = true)\n",
      " |-- reviews_per_month: double (nullable = true)\n",
      "\n"
     ]
    },
    {
     "name": "stderr",
     "output_type": "stream",
     "text": [
      "                                                                                "
     ]
    }
   ],
   "source": [
    "listings = spark.read.csv(\"./data/listings.csv.gz\", \n",
    "    header=True,\n",
    "    inferSchema=True,\n",
    "    sep=\",\", \n",
    "    quote='\"',\n",
    "    escape='\"', \n",
    "    multiLine=True,\n",
    "    mode=\"PERMISSIVE\" \n",
    ")\n",
    "listings.printSchema()"
   ]
  },
  {
   "cell_type": "code",
   "execution_count": 5,
   "id": "26f7c190-fde9-4ca8-8324-f1c54825ba27",
   "metadata": {},
   "outputs": [
    {
     "name": "stderr",
     "output_type": "stream",
     "text": [
      "[Stage 3:>                                                          (0 + 1) / 1]"
     ]
    },
    {
     "name": "stdout",
     "output_type": "stream",
     "text": [
      "root\n",
      " |-- listing_id: long (nullable = true)\n",
      " |-- id: long (nullable = true)\n",
      " |-- date: date (nullable = true)\n",
      " |-- reviewer_id: integer (nullable = true)\n",
      " |-- reviewer_name: string (nullable = true)\n",
      " |-- comments: string (nullable = true)\n",
      "\n"
     ]
    },
    {
     "name": "stderr",
     "output_type": "stream",
     "text": [
      "                                                                                "
     ]
    }
   ],
   "source": [
    "reviews = spark.read.csv(\"./data/reviews.csv.gz\", \n",
    "    header=True,\n",
    "    inferSchema=True,\n",
    "    sep=\",\",\n",
    "    quote='\"',\n",
    "    escape='\"',\n",
    "    multiLine=True,\n",
    "    mode=\"PERMISSIVE\"\n",
    ")\n",
    "reviews.printSchema()"
   ]
  },
  {
   "cell_type": "code",
   "execution_count": 80,
   "id": "d1f4fb52-55f0-4676-83c8-a7841fa66faf",
   "metadata": {},
   "outputs": [
    {
     "name": "stderr",
     "output_type": "stream",
     "text": [
      "[Stage 202:>                                                        (0 + 1) / 1]"
     ]
    },
    {
     "name": "stdout",
     "output_type": "stream",
     "text": [
      "+----------+-----+\n",
      "|listing_id|count|\n",
      "+----------+-----+\n",
      "|     78606|    2|\n",
      "|    444886|   12|\n",
      "|    466017|   28|\n",
      "|   2736493|    4|\n",
      "|   2557853|   89|\n",
      "|   3132302|    3|\n",
      "|   3917692|    1|\n",
      "|   3734796|    5|\n",
      "|   3997029|    7|\n",
      "|   4361078|   70|\n",
      "+----------+-----+\n",
      "only showing top 10 rows\n"
     ]
    },
    {
     "name": "stderr",
     "output_type": "stream",
     "text": [
      "                                                                                "
     ]
    }
   ],
   "source": [
    "# 1. Count the number of reviews per listing using the \"reviews\" dataset\n",
    "# listings_reviews = listings.join(reviews, listings.id == reviews.listing_id, how=\"inner\")\n",
    "# listings_reviews\\\n",
    "#     .groupBy(listings.id, listings.name)\\\n",
    "#     .count()\\\n",
    "#     .show(truncate=False)\n",
    "#\n",
    "# v technically right answer ^ answer with uneccesary join\n",
    "#\n",
    "reviews_per_listing = reviews\\\n",
    "    .groupBy('listing_id')\\\n",
    "    .count()\\\n",
    "    .show(10)"
   ]
  },
  {
   "cell_type": "code",
   "execution_count": 24,
   "id": "9cf68170-a2aa-4dc5-8049-154e3be7cc2b",
   "metadata": {},
   "outputs": [],
   "source": [
    "import pyspark.sql.functions as F"
   ]
  },
  {
   "cell_type": "code",
   "execution_count": 31,
   "id": "f1d78139-314c-4909-b4bc-bb10290e6ece",
   "metadata": {},
   "outputs": [
    {
     "name": "stdout",
     "output_type": "stream",
     "text": [
      "+--------------------+\n",
      "|review_scores_rating|\n",
      "+--------------------+\n",
      "|                4.68|\n",
      "|                4.58|\n",
      "|                 4.5|\n",
      "|                4.64|\n",
      "|                4.68|\n",
      "+--------------------+\n",
      "\n"
     ]
    }
   ],
   "source": [
    "listings.select(listings.review_scores_rating).limit(5).show()"
   ]
  },
  {
   "cell_type": "code",
   "execution_count": 83,
   "id": "e9f57f30-f1ef-4203-b8a6-39b2b3dbbb8a",
   "metadata": {},
   "outputs": [
    {
     "name": "stderr",
     "output_type": "stream",
     "text": [
      "[Stage 211:>                                                        (0 + 1) / 1]"
     ]
    },
    {
     "name": "stdout",
     "output_type": "stream",
     "text": [
      "+---------+---------------+------------------+\n",
      "|  host_id|num_of_listings|     avg_rev_score|\n",
      "+---------+---------------+------------------+\n",
      "| 28820321|            258| 4.580697674418607|\n",
      "|  1432477|            217| 4.400184331797233|\n",
      "|314162972|            201| 4.373432835820895|\n",
      "| 33889201|            120| 4.634916666666666|\n",
      "|124359784|            118|4.4044915254237305|\n",
      "| 83740964|            115|4.4220000000000015|\n",
      "|228928499|            112| 4.846607142857143|\n",
      "| 47609036|            109|  4.75165137614679|\n",
      "|590452007|            109| 4.114311926605505|\n",
      "| 30253178|            108| 4.475185185185184|\n",
      "| 89355192|            101|  4.64990099009901|\n",
      "| 74167394|             98| 4.086122448979591|\n",
      "|156158778|             94|  4.89031914893617|\n",
      "|538103588|             88| 4.827727272727272|\n",
      "|519945528|             84| 4.037261904761904|\n",
      "| 92967793|             84|4.7767857142857135|\n",
      "|  7701687|             76| 4.498552631578947|\n",
      "|215357262|             76| 4.514342105263158|\n",
      "| 11515631|             76| 4.930263157894737|\n",
      "|105564995|             76|  4.43328947368421|\n",
      "+---------+---------------+------------------+\n",
      "only showing top 20 rows\n"
     ]
    },
    {
     "name": "stderr",
     "output_type": "stream",
     "text": [
      "                                                                                "
     ]
    }
   ],
   "source": [
    "# 2. Compute the total number of listings and average review score per host\n",
    "# Total num of listings\n",
    "avg_review_score = listings\\\n",
    "    .filter(listings.review_scores_rating.isNotNull())\\\n",
    "    .groupBy(listings.host_id)\\\n",
    "    .agg(\n",
    "        F.count(listings.id).alias(\"num_of_listings\"),\n",
    "        F.avg(listings.review_scores_rating).alias(\"avg_rev_score\")\n",
    "    )\\\n",
    "    .orderBy(\"num_of_listings\", ascending=[False])\\\n",
    "    .show()\n",
    "avg_review_score"
   ]
  },
  {
   "cell_type": "code",
   "execution_count": 85,
   "id": "06c87317-bed4-4984-ba38-548eab0eb209",
   "metadata": {},
   "outputs": [
    {
     "name": "stderr",
     "output_type": "stream",
     "text": [
      "[Stage 217:>                                                        (0 + 1) / 1]"
     ]
    },
    {
     "name": "stdout",
     "output_type": "stream",
     "text": [
      "+--------------------------------------------------+-----------------+\n",
      "|name                                              |number_of_reviews|\n",
      "+--------------------------------------------------+-----------------+\n",
      "|Double Room+ Ensuite                              |1855             |\n",
      "|Double Garden View room - London House Hotel***   |1682             |\n",
      "|Private double room with en suite facilities      |1615             |\n",
      "|Locke Studio Apartment at Leman Locke             |1436             |\n",
      "|Budget Double Room In Colliers Hotel.             |1433             |\n",
      "|Cosy Double in Kings Cross Houseshare nr Eurostar |1195             |\n",
      "|London's best transport hub 5 mins walk! Safe too!|1122             |\n",
      "|En-suite Double in Kings Cross Houseshare Eurostar|1005             |\n",
      "|KX Basic- Small Double- shared bathroom           |978              |\n",
      "|Double in Kings Cross Houseshare nr Eurostar      |973              |\n",
      "+--------------------------------------------------+-----------------+\n",
      "\n"
     ]
    },
    {
     "name": "stderr",
     "output_type": "stream",
     "text": [
      "                                                                                "
     ]
    }
   ],
   "source": [
    "# 3: Find the top ten listings with the highest number of reviews\n",
    "listings\\\n",
    "    .select(\"name\", \"number_of_reviews\")\\\n",
    "    .orderBy(\"number_of_reviews\", ascending=[False])\\\n",
    "    .limit(10)\\\n",
    "    .show(truncate=False)\n",
    "\n",
    "## v ^ Either works\n",
    "\n",
    "# reviews\\\n",
    "#     .groupBy('listing_id')\\\n",
    "#     .count()\\\n",
    "#     .orderBy('count', ascending=False)\\\n",
    "#     .limit(10)\\\n",
    "#     .show()"
   ]
  },
  {
   "cell_type": "code",
   "execution_count": 93,
   "id": "5a776ff4-9be4-4453-9892-b04c7991cdb2",
   "metadata": {},
   "outputs": [
    {
     "name": "stderr",
     "output_type": "stream",
     "text": [
      "[Stage 230:>                                                        (0 + 1) / 1]"
     ]
    },
    {
     "name": "stdout",
     "output_type": "stream",
     "text": [
      "+----------------------+------------+\n",
      "|neighbourhood_cleansed|num_listings|\n",
      "+----------------------+------------+\n",
      "|Westminster           |11367       |\n",
      "|Tower Hamlets         |7566        |\n",
      "|Camden                |6564        |\n",
      "|Kensington and Chelsea|6348        |\n",
      "|Hackney               |6279        |\n",
      "+----------------------+------------+\n",
      "\n"
     ]
    },
    {
     "name": "stderr",
     "output_type": "stream",
     "text": [
      "                                                                                "
     ]
    }
   ],
   "source": [
    "# 4. Find the top five neighborhoods with the most listings\n",
    "listings\\\n",
    "    .filter(listings.neighbourhood_cleansed.isNotNull())\\\n",
    "    .groupBy(listings.neighbourhood_cleansed)\\\n",
    "    .agg(\n",
    "        F.count(listings.id).alias('num_listings')\n",
    "    )\\\n",
    "    .orderBy('num_listings', ascending=[False])\\\n",
    "    .limit(5)\\\n",
    "    .show(truncate=False)\n",
    "\n",
    "# Both right, ^ Mine v his\n",
    "\n",
    "# listings \\\n",
    "#     .groupBy('neighbourhood_cleansed')\\\n",
    "#     .count() \\\n",
    "#     .orderBy('count', ascending=False)\\\n",
    "#     .limit(5)\\\n",
    "#     .show()"
   ]
  },
  {
   "cell_type": "code",
   "execution_count": 51,
   "id": "207fd900-7740-4d6c-bf36-c87d4fb57de4",
   "metadata": {},
   "outputs": [
    {
     "name": "stderr",
     "output_type": "stream",
     "text": [
      "[Stage 122:>                                                        (0 + 1) / 1]"
     ]
    },
    {
     "name": "stdout",
     "output_type": "stream",
     "text": [
      "+-----+--------------------+-------------+--------------------+\n",
      "|   id|                name|reviewer_name|            comments|\n",
      "+-----+--------------------+-------------+--------------------+\n",
      "|13913|Holiday London DB...|      Michael|My girlfriend and...|\n",
      "|13913|Holiday London DB...|      Mathias|Alina was a reall...|\n",
      "|13913|Holiday London DB...|      Kristin|Alina is an amazi...|\n",
      "|13913|Holiday London DB...|      Camilla|Alina's place is ...|\n",
      "|13913|Holiday London DB...|        Jorik|Nice location in ...|\n",
      "|13913|Holiday London DB...|         Vera|I'm very happy to...|\n",
      "|13913|Holiday London DB...|         Honi|I stayed with Ali...|\n",
      "|13913|Holiday London DB...|   Alessandro|Alina was a perfe...|\n",
      "|13913|Holiday London DB...|         Oleh|Alina's flat is e...|\n",
      "|13913|Holiday London DB...|           Mo|The House is a pi...|\n",
      "|13913|Holiday London DB...|            A|Was great base fo...|\n",
      "|13913|Holiday London DB...|       Daniel|Alina was an amaz...|\n",
      "|13913|Holiday London DB...|      Belinda|Lovely relaxed pl...|\n",
      "|13913|Holiday London DB...|      Charles|Alina's place is ...|\n",
      "|13913|Holiday London DB...|       Andrew|Alina, was very q...|\n",
      "|13913|Holiday London DB...|         Bart|Alina is an amazi...|\n",
      "|13913|Holiday London DB...|         John|Alina is a very r...|\n",
      "|13913|Holiday London DB...|       Philip|Felt at home - Al...|\n",
      "|13913|Holiday London DB...|         Ania|Alina’s place is ...|\n",
      "|13913|Holiday London DB...|       Samuel|Outstanding host....|\n",
      "+-----+--------------------+-------------+--------------------+\n",
      "only showing top 20 rows\n"
     ]
    },
    {
     "name": "stderr",
     "output_type": "stream",
     "text": [
      "                                                                                "
     ]
    }
   ],
   "source": [
    "# 5. Get a data frame with the following four columns:\n",
    "# * Listing's ID\n",
    "# * Listing's name\n",
    "# * Reviewer's name\n",
    "# * Review's comment\n",
    "# Use \"join\" to combine data from two datasets\n",
    "l_r_2 = listings\\\n",
    "    .join(reviews, listings.id == reviews.listing_id, how=\"inner\")\n",
    "lr_dr = l_r_2\\\n",
    "    .select(listings.id, l_r_2.name, l_r_2.reviewer_name, l_r_2.comments)\\\n",
    "    .show(20)\n",
    "lr_dr"
   ]
  },
  {
   "cell_type": "code",
   "execution_count": 94,
   "id": "66cf143b-7cdb-457a-aacb-56f5e6e539b6",
   "metadata": {},
   "outputs": [
    {
     "name": "stderr",
     "output_type": "stream",
     "text": [
      "[Stage 234:>                                                        (0 + 1) / 1]"
     ]
    },
    {
     "name": "stdout",
     "output_type": "stream",
     "text": [
      "+------------------+--------------------+-----------------+------------------+\n",
      "|                id|                name|number_of_reviews|avg_rev_com_length|\n",
      "+------------------+--------------------+-----------------+------------------+\n",
      "|618608352812465378|Beautiful Georgia...|                6|1300.1666666666667|\n",
      "|          28508447|The warm and cosy...|                6|1089.3333333333333|\n",
      "|627425975703032358|Superb loft beaut...|                9| 951.7777777777778|\n",
      "|            979753|Pop-Art Brand New...|               13| 893.9230769230769|\n",
      "|630150178279666225|Georgian oasis of...|               11| 890.7272727272727|\n",
      "+------------------+--------------------+-----------------+------------------+\n",
      "\n"
     ]
    },
    {
     "name": "stderr",
     "output_type": "stream",
     "text": [
      "                                                                                "
     ]
    }
   ],
   "source": [
    "# 6.Get top five listings with the highest average review comment length. \n",
    "# Only return listings with at least 5 reviews\n",
    "# Use the \"length\" function from the \"pyspark.sql.functions\"\n",
    "# to get a lenght of a review\n",
    "\n",
    "# l_r_2\\\n",
    "#     .groupBy(listings.id, listings.name, reviews.comments)\\\n",
    "#     .agg(\n",
    "#         F.count(reviews.id).alias(\"num_of_reviews\"),\n",
    "#         F.avg(F.length(reviews.comments).alias(\"rev_com_length\"))\n",
    "#     )\\\n",
    "#     .filter(\"num_of_reviews > 50\")\\\n",
    "#     .orderBy(\"num_of_reviews\", ascending=[False])\\\n",
    "#     .show()\n",
    "\n",
    "l_r_2\\\n",
    "    .groupBy(listings.id, listings.name, listings.number_of_reviews)\\\n",
    "    .agg(\n",
    "        F.avg(F.length(l_r_2.comments)).alias(\"avg_rev_com_length\")\n",
    "    )\\\n",
    "    .filter(listings.number_of_reviews > 5)\\\n",
    "    .orderBy(\"avg_rev_com_length\", ascending=[False])\\\n",
    "    .limit(5)\\\n",
    "    .show()\n",
    "\n",
    "## ^mine v his - both right\n",
    "\n",
    "# from pyspark.sql.functions import length, avg, count\n",
    "\n",
    "# reviews_with_comment_length = reviews.withColumn('comment_length', length('comments'))\n",
    "# reviews_with_comment_length \\\n",
    "#   .join(listings, reviews_with_comment_length.listing_id == listings.id, 'inner') \\\n",
    "#   .groupBy('listing_id').agg(\n",
    "#       avg(reviews_with_comment_length.comment_length).alias('average_comment_length'),\n",
    "#       count(reviews_with_comment_length.id).alias('reviews_count')\n",
    "#   ) \\\n",
    "#   .filter('reviews_count >= 5') \\\n",
    "#   .orderBy('average_comment_length', ascending=False) \\\n",
    "#   .show()"
   ]
  },
  {
   "cell_type": "code",
   "execution_count": 95,
   "id": "377a82af-e2f1-4888-b007-d46dace3ca67",
   "metadata": {},
   "outputs": [
    {
     "name": "stderr",
     "output_type": "stream",
     "text": [
      "[Stage 241:>                                                        (0 + 1) / 1]"
     ]
    },
    {
     "name": "stdout",
     "output_type": "stream",
     "text": [
      "+------------------------------------------------+\n",
      "|name                                            |\n",
      "+------------------------------------------------+\n",
      "|ChiqDoube Room in PrivateAppartment             |\n",
      "|ROOM TO RENT IN THE OLYMPIC PERIOD              |\n",
      "|4 bed Beautiful west london home                |\n",
      "|London, Hoxton. Nice, 2 bedroom, 7th floor flat.|\n",
      "|Bright Dbl/Nr/ Excellnt Transp                  |\n",
      "|Stunning Shared Penthouse Apartment             |\n",
      "|The Old Coach House (Olympics)                  |\n",
      "|Studio 20min Walk from Olympic City             |\n",
      "|Luxury single room                              |\n",
      "|Contemporary house London E4                    |\n",
      "|A lovely one bedroom garden flat!!              |\n",
      "|Coming to London for the Olympics?              |\n",
      "|Lovely double room + own bathroom               |\n",
      "|Double Room close to Olympic Park!              |\n",
      "|Double bedroom near Olympic Park                |\n",
      "|SPARE ROOM TO LET DURING OLYMPICS               |\n",
      "|Your Studio Flat in London-Olympics             |\n",
      "|1 bedroom available, kensal rise                |\n",
      "|Trendy location close to the river              |\n",
      "|Large Cosy Apartment with Garden E7             |\n",
      "+------------------------------------------------+\n",
      "only showing top 20 rows\n"
     ]
    },
    {
     "name": "stderr",
     "output_type": "stream",
     "text": [
      "                                                                                "
     ]
    }
   ],
   "source": [
    "# 7. Using the \"join\" operator find listings without reviews.\n",
    "# Hint: Use \"left_join\" or \"left_anti\" join type when implementing this\n",
    "\n",
    "# new_join = listings.join(reviews, listings.id == reviews.listing_id, how=\"left_anti\")\n",
    "# new_join.select(new_join.comments).limit(5).show()\n",
    "\n",
    "# His solution one\n",
    "# joined_df = listings.join(\n",
    "#     reviews,\n",
    "#     listings.id == reviews.listing_id,\n",
    "#     how='left_outer'\n",
    "# )\n",
    "\n",
    "# joined_df \\\n",
    "#   .filter(reviews.listing_id.isNull()) \\\n",
    "#   .select('name') \\\n",
    "#   .show(truncate=False)\n",
    "\n",
    "# His solution two\n",
    "listings_without_reviews = listings \\\n",
    "  .join(\n",
    "    reviews,\n",
    "    listings.id == reviews.listing_id,\n",
    "    how='left_anti'\n",
    "  ) \\\n",
    "  .select('name') \\\n",
    "  .show(truncate=False)"
   ]
  },
  {
   "cell_type": "code",
   "execution_count": null,
   "id": "c5596525-4c0b-4cf8-8164-452e3a2940f6",
   "metadata": {},
   "outputs": [],
   "source": []
  }
 ],
 "metadata": {
  "kernelspec": {
   "display_name": "Python 3 (ipykernel)",
   "language": "python",
   "name": "python3"
  },
  "language_info": {
   "codemirror_mode": {
    "name": "ipython",
    "version": 3
   },
   "file_extension": ".py",
   "mimetype": "text/x-python",
   "name": "python",
   "nbconvert_exporter": "python",
   "pygments_lexer": "ipython3",
   "version": "3.13.5"
  }
 },
 "nbformat": 4,
 "nbformat_minor": 5
}
