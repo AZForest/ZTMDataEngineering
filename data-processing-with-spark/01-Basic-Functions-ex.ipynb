{
 "cells": [
  {
   "cell_type": "code",
   "execution_count": 1,
   "id": "a08fec86-4e4e-49e7-a761-316571404ca6",
   "metadata": {},
   "outputs": [
    {
     "name": "stderr",
     "output_type": "stream",
     "text": [
      "25/08/17 10:47:57 WARN SparkSession: Using an existing Spark session; only runtime SQL configurations will take effect.\n"
     ]
    }
   ],
   "source": [
    "from pyspark.sql import SparkSession\n",
    "\n",
    "spark = SparkSession.builder \\\n",
    "    .appName(\"Read Inside Airbnb data\") \\\n",
    "    .getOrCreate()"
   ]
  },
  {
   "cell_type": "code",
   "execution_count": 2,
   "id": "0915e0b8-1d17-4d99-aa1f-f72216008eee",
   "metadata": {},
   "outputs": [
    {
     "name": "stderr",
     "output_type": "stream",
     "text": [
      "                                                                                "
     ]
    }
   ],
   "source": [
    "listings = spark.read.csv(\"./data/listings.csv.gz\", \n",
    "    header=True,\n",
    "    inferSchema=True,\n",
    "    sep=\",\", \n",
    "    quote='\"',\n",
    "    escape='\"', \n",
    "    multiLine=True,\n",
    "    mode=\"PERMISSIVE\" \n",
    ")"
   ]
  },
  {
   "cell_type": "code",
   "execution_count": 3,
   "id": "87a94e70-4232-44dd-abd0-f657583ce918",
   "metadata": {},
   "outputs": [
    {
     "name": "stdout",
     "output_type": "stream",
     "text": [
      "root\n",
      " |-- id: long (nullable = true)\n",
      " |-- listing_url: string (nullable = true)\n",
      " |-- scrape_id: long (nullable = true)\n",
      " |-- last_scraped: date (nullable = true)\n",
      " |-- source: string (nullable = true)\n",
      " |-- name: string (nullable = true)\n",
      " |-- description: string (nullable = true)\n",
      " |-- neighborhood_overview: string (nullable = true)\n",
      " |-- picture_url: string (nullable = true)\n",
      " |-- host_id: integer (nullable = true)\n",
      " |-- host_url: string (nullable = true)\n",
      " |-- host_name: string (nullable = true)\n",
      " |-- host_since: date (nullable = true)\n",
      " |-- host_location: string (nullable = true)\n",
      " |-- host_about: string (nullable = true)\n",
      " |-- host_response_time: string (nullable = true)\n",
      " |-- host_response_rate: string (nullable = true)\n",
      " |-- host_acceptance_rate: string (nullable = true)\n",
      " |-- host_is_superhost: string (nullable = true)\n",
      " |-- host_thumbnail_url: string (nullable = true)\n",
      " |-- host_picture_url: string (nullable = true)\n",
      " |-- host_neighbourhood: string (nullable = true)\n",
      " |-- host_listings_count: integer (nullable = true)\n",
      " |-- host_total_listings_count: integer (nullable = true)\n",
      " |-- host_verifications: string (nullable = true)\n",
      " |-- host_has_profile_pic: string (nullable = true)\n",
      " |-- host_identity_verified: string (nullable = true)\n",
      " |-- neighbourhood: string (nullable = true)\n",
      " |-- neighbourhood_cleansed: string (nullable = true)\n",
      " |-- neighbourhood_group_cleansed: string (nullable = true)\n",
      " |-- latitude: double (nullable = true)\n",
      " |-- longitude: double (nullable = true)\n",
      " |-- property_type: string (nullable = true)\n",
      " |-- room_type: string (nullable = true)\n",
      " |-- accommodates: integer (nullable = true)\n",
      " |-- bathrooms: double (nullable = true)\n",
      " |-- bathrooms_text: string (nullable = true)\n",
      " |-- bedrooms: integer (nullable = true)\n",
      " |-- beds: integer (nullable = true)\n",
      " |-- amenities: string (nullable = true)\n",
      " |-- price: string (nullable = true)\n",
      " |-- minimum_nights: integer (nullable = true)\n",
      " |-- maximum_nights: integer (nullable = true)\n",
      " |-- minimum_minimum_nights: integer (nullable = true)\n",
      " |-- maximum_minimum_nights: integer (nullable = true)\n",
      " |-- minimum_maximum_nights: integer (nullable = true)\n",
      " |-- maximum_maximum_nights: integer (nullable = true)\n",
      " |-- minimum_nights_avg_ntm: double (nullable = true)\n",
      " |-- maximum_nights_avg_ntm: double (nullable = true)\n",
      " |-- calendar_updated: string (nullable = true)\n",
      " |-- has_availability: string (nullable = true)\n",
      " |-- availability_30: integer (nullable = true)\n",
      " |-- availability_60: integer (nullable = true)\n",
      " |-- availability_90: integer (nullable = true)\n",
      " |-- availability_365: integer (nullable = true)\n",
      " |-- calendar_last_scraped: date (nullable = true)\n",
      " |-- number_of_reviews: integer (nullable = true)\n",
      " |-- number_of_reviews_ltm: integer (nullable = true)\n",
      " |-- number_of_reviews_l30d: integer (nullable = true)\n",
      " |-- availability_eoy: integer (nullable = true)\n",
      " |-- number_of_reviews_ly: integer (nullable = true)\n",
      " |-- estimated_occupancy_l365d: integer (nullable = true)\n",
      " |-- estimated_revenue_l365d: integer (nullable = true)\n",
      " |-- first_review: date (nullable = true)\n",
      " |-- last_review: date (nullable = true)\n",
      " |-- review_scores_rating: double (nullable = true)\n",
      " |-- review_scores_accuracy: double (nullable = true)\n",
      " |-- review_scores_cleanliness: double (nullable = true)\n",
      " |-- review_scores_checkin: double (nullable = true)\n",
      " |-- review_scores_communication: double (nullable = true)\n",
      " |-- review_scores_location: double (nullable = true)\n",
      " |-- review_scores_value: double (nullable = true)\n",
      " |-- license: string (nullable = true)\n",
      " |-- instant_bookable: string (nullable = true)\n",
      " |-- calculated_host_listings_count: integer (nullable = true)\n",
      " |-- calculated_host_listings_count_entire_homes: integer (nullable = true)\n",
      " |-- calculated_host_listings_count_private_rooms: integer (nullable = true)\n",
      " |-- calculated_host_listings_count_shared_rooms: integer (nullable = true)\n",
      " |-- reviews_per_month: double (nullable = true)\n",
      "\n"
     ]
    }
   ],
   "source": [
    "listings.printSchema()"
   ]
  },
  {
   "cell_type": "code",
   "execution_count": 4,
   "id": "2086267a-977b-4ae5-bdea-2f59edded38b",
   "metadata": {},
   "outputs": [
    {
     "name": "stderr",
     "output_type": "stream",
     "text": [
      "                                                                                "
     ]
    },
    {
     "data": {
      "text/plain": [
       "96651"
      ]
     },
     "execution_count": 4,
     "metadata": {},
     "output_type": "execute_result"
    }
   ],
   "source": [
    "listings.count()"
   ]
  },
  {
   "cell_type": "code",
   "execution_count": 59,
   "id": "a3359266-b3c0-4e67-8b2d-d99c273a8f0b",
   "metadata": {},
   "outputs": [
    {
     "name": "stdout",
     "output_type": "stream",
     "text": [
      "+------+-------+----------------------------------------------------------------------------------------------------------+\n",
      "|id    |price  |picture_url                                                                                               |\n",
      "+------+-------+----------------------------------------------------------------------------------------------------------+\n",
      "|264776|$297.00|https://a0.muscache.com/pictures/hosting/Hosting-264776/original/3cc7b93f-dbda-4ded-ac15-e9d96691e7ca.jpeg|\n",
      "+------+-------+----------------------------------------------------------------------------------------------------------+\n",
      "\n"
     ]
    }
   ],
   "source": [
    "# 1. Get a non-null picture URL for any property (\"picture_url\" field)\n",
    "# Select any non-null picture URL\n",
    "listings.filter(\"picture_url IS NOT NULL\")\\\n",
    "        .select(\"id\", \"price\", \"picture_url\")\\\n",
    "        .limit(1)\\\n",
    "        .show(truncate=False)\n",
    "        #.dropna()\\"
   ]
  },
  {
   "cell_type": "code",
   "execution_count": 60,
   "id": "5233d5a0-55d7-4db1-a7ab-7b73330533c9",
   "metadata": {},
   "outputs": [
    {
     "name": "stderr",
     "output_type": "stream",
     "text": [
      "                                                                                "
     ]
    },
    {
     "data": {
      "text/plain": [
       "57"
      ]
     },
     "execution_count": 60,
     "metadata": {},
     "output_type": "execute_result"
    }
   ],
   "source": [
    "# 2. Get number of properties that get more than 10 reviews per month\n",
    "listings.filter(listings.reviews_per_month > 10).count()"
   ]
  },
  {
   "cell_type": "code",
   "execution_count": 61,
   "id": "2fe1900e-d410-47b0-9de8-5206dd2f2ad3",
   "metadata": {},
   "outputs": [
    {
     "name": "stdout",
     "output_type": "stream",
     "text": [
      "+-------+--------------------------------------------------+--------+---------+\n",
      "|id     |name                                              |bedrooms|bathrooms|\n",
      "+-------+--------------------------------------------------+--------+---------+\n",
      "|346523 |Luxury, Newly Renovated Chelsea Apartment         |2       |2.5      |\n",
      "|536121 |Experience London in amazing reconverted Gin house|3       |3.5      |\n",
      "|536751 |Elegant Paddington Penthouse 2 Bedroom 3 Bathroom |2       |3.0      |\n",
      "|999835 |Stepney House 3 - affordable LUXURY               |2       |2.5      |\n",
      "|857938 |Prime location luxury home                        |3       |3.5      |\n",
      "|1346303|Lovely 2bd flat central Maida Vale                |2       |2.5      |\n",
      "|1367598|Charming 3 Bedroom House in Pimlico               |3       |3.5      |\n",
      "|1796751|Superlux flat in Knightsbridge                    |2       |2.5      |\n",
      "|1796888|Come to stay at the The Beeches in Royal Greenwich|2       |2.5      |\n",
      "|1665188|Luxury Mews House in quiet central London location|3       |4.5      |\n",
      "+-------+--------------------------------------------------+--------+---------+\n",
      "only showing top 10 rows\n"
     ]
    }
   ],
   "source": [
    "# 3. Get properties that have more bathrooms than bedrooms\n",
    "listings.filter((listings.bedrooms < listings.bathrooms) & (listings.bedrooms > 1))\\\n",
    "        .select(\"id\", \"name\", \"bedrooms\", \"bathrooms\")\\\n",
    "        .show(10, truncate=False)"
   ]
  },
  {
   "cell_type": "code",
   "execution_count": 8,
   "id": "d3b416fc-ed9b-4f91-a31a-767b61912f0f",
   "metadata": {},
   "outputs": [
    {
     "name": "stdout",
     "output_type": "stream",
     "text": [
      "+-------+\n",
      "|  price|\n",
      "+-------+\n",
      "|$297.00|\n",
      "| $98.00|\n",
      "|$148.00|\n",
      "|$144.00|\n",
      "|$157.00|\n",
      "+-------+\n",
      "only showing top 5 rows\n"
     ]
    }
   ],
   "source": [
    "# 4. Get properties where the price is greater than 5,000. Collect the result as a Python list\n",
    "# Remember to convert a price into a number first!\n",
    "#listings.filter(listings.price > 5000).count()\n",
    "listings.select(listings.price).show(5)"
   ]
  },
  {
   "cell_type": "code",
   "execution_count": 64,
   "id": "a4f55b33-023a-4d84-987a-b19c7105d952",
   "metadata": {},
   "outputs": [
    {
     "name": "stderr",
     "output_type": "stream",
     "text": [
      "                                                                                "
     ]
    }
   ],
   "source": [
    "from pyspark.sql.functions import regexp_replace\n",
    "\n",
    "price_num_df = listings.withColumn('price_num', regexp_replace('price', '[$,]', '').cast('float'))\n",
    "res = price_num_df.filter('price_num > 5000')\\\n",
    "    .select('name', 'price')\\\n",
    "    .collect()\n",
    "\n",
    "# res"
   ]
  },
  {
   "cell_type": "code",
   "execution_count": 65,
   "id": "2a3de774-4cf9-4cc6-a8f9-a435ecc92118",
   "metadata": {},
   "outputs": [
    {
     "name": "stderr",
     "output_type": "stream",
     "text": [
      "                                                                                "
     ]
    },
    {
     "data": {
      "text/plain": [
       "9626"
      ]
     },
     "execution_count": 65,
     "metadata": {},
     "output_type": "execute_result"
    }
   ],
   "source": [
    "# 5. Get a list of properties with the following characteristics:\n",
    "# * price < 150\n",
    "# * more than 20 reviews\n",
    "# * review_scores_rating > 4.5\n",
    "# Consider using the \"&\" operator\n",
    "#price_num_df.filter('price_num < 150 AND number_of_reviews > 20 AND review_scores_rating > 4.5').select('id').count()\n",
    "price_num_df.filter((price_num_df.price_num < 150) &\\\n",
    "                    (price_num_df.number_of_reviews > 20) &\\\n",
    "                    (price_num_df.review_scores_rating > 4.5))\\\n",
    "            .select('name')\\\n",
    "            .count()"
   ]
  },
  {
   "cell_type": "code",
   "execution_count": 37,
   "id": "f8b87435-b959-4f72-87d7-d269be51bbc7",
   "metadata": {},
   "outputs": [
    {
     "name": "stderr",
     "output_type": "stream",
     "text": [
      "                                                                                "
     ]
    },
    {
     "data": {
      "text/plain": [
       "48011"
      ]
     },
     "execution_count": 37,
     "metadata": {},
     "output_type": "execute_result"
    }
   ],
   "source": [
    "# 6. Get a list of properties with the following characteristics:\n",
    "# * price < 150 OR more than one bathroom\n",
    "# Use the \"|\" operator to implement the OR operator\n",
    "price_num_df.filter((price_num_df.price_num < 150) | (price_num_df.bathrooms > 1))\\\n",
    "            .select('id', 'price_num', 'bathrooms')\\\n",
    "            .count()"
   ]
  },
  {
   "cell_type": "code",
   "execution_count": 41,
   "id": "4a58923c-a42c-4c64-8c2d-469145e52ce9",
   "metadata": {},
   "outputs": [
    {
     "name": "stderr",
     "output_type": "stream",
     "text": [
      "[Stage 47:>                                                         (0 + 1) / 1]"
     ]
    },
    {
     "name": "stdout",
     "output_type": "stream",
     "text": [
      "+--------------+\n",
      "|max(price_num)|\n",
      "+--------------+\n",
      "|       74100.0|\n",
      "+--------------+\n",
      "\n"
     ]
    },
    {
     "name": "stderr",
     "output_type": "stream",
     "text": [
      "                                                                                "
     ]
    }
   ],
   "source": [
    "# 7. Get the highest listing price in this dataset\n",
    "# Consider using the \"max\" function from \"pyspark.sql.functions\"\n",
    "import pyspark.sql.functions as sf\n",
    "price_num_df.select(sf.max(price_num_df.price_num)).show()"
   ]
  },
  {
   "cell_type": "code",
   "execution_count": 70,
   "id": "73337204-39b3-468c-aca6-f95634b849a6",
   "metadata": {},
   "outputs": [
    {
     "name": "stderr",
     "output_type": "stream",
     "text": [
      "                                                                                "
     ]
    },
    {
     "data": {
      "text/plain": [
       "[Row(max_price=74100.0)]"
      ]
     },
     "execution_count": 70,
     "metadata": {},
     "output_type": "execute_result"
    }
   ],
   "source": [
    "# 8. Get the name and a price of property with the highest price\n",
    "# Try to use \"collect\" method to get the highest price first, and then use it in a \"filter\" call \n",
    "res = price_num_df\\\n",
    "    .select(sf.max(price_num_df.price_num).alias('max_price'))\\\n",
    "    .collect()\n",
    "res\n"
   ]
  },
  {
   "cell_type": "code",
   "execution_count": 71,
   "id": "e00ea768-d0f9-4981-b498-ba6907e77bf5",
   "metadata": {},
   "outputs": [
    {
     "data": {
      "text/plain": [
       "74100.0"
      ]
     },
     "execution_count": 71,
     "metadata": {},
     "output_type": "execute_result"
    }
   ],
   "source": [
    "max_price = res[0]['max_price']\n",
    "max_price"
   ]
  },
  {
   "cell_type": "code",
   "execution_count": 73,
   "id": "757691e4-5f55-401f-8a1f-3726176ca24d",
   "metadata": {},
   "outputs": [
    {
     "name": "stderr",
     "output_type": "stream",
     "text": [
      "[Stage 90:>                                                         (0 + 1) / 1]"
     ]
    },
    {
     "name": "stdout",
     "output_type": "stream",
     "text": [
      "+-----------------------------------------------+----------+\n",
      "|name                                           |price     |\n",
      "+-----------------------------------------------+----------+\n",
      "|Bright & airy DoubleBed with EnSuite in Zone 2!|$74,100.00|\n",
      "+-----------------------------------------------+----------+\n",
      "\n"
     ]
    },
    {
     "name": "stderr",
     "output_type": "stream",
     "text": [
      "                                                                                "
     ]
    }
   ],
   "source": [
    "price_num_df.filter(price_num_df.price_num == max_price)\\\n",
    "            .select('name', 'price')\\\n",
    "            .show(truncate=False)"
   ]
  },
  {
   "cell_type": "code",
   "execution_count": 74,
   "id": "4da9c777-e41d-4e7d-961d-693ffb45dfe1",
   "metadata": {},
   "outputs": [
    {
     "name": "stderr",
     "output_type": "stream",
     "text": [
      "                                                                                "
     ]
    },
    {
     "data": {
      "text/plain": [
       "16659"
      ]
     },
     "execution_count": 74,
     "metadata": {},
     "output_type": "execute_result"
    }
   ],
   "source": [
    "# 9. Get the number of hosts in the dataset\n",
    "listings.select(listings.host_name).distinct().count()"
   ]
  },
  {
   "cell_type": "code",
   "execution_count": 75,
   "id": "96572dbe-536f-4150-9402-698b8005337d",
   "metadata": {},
   "outputs": [
    {
     "name": "stdout",
     "output_type": "stream",
     "text": [
      "+--------------------------------------------------+------------+------------------+\n",
      "|name                                              |first_review|year(first_review)|\n",
      "+--------------------------------------------------+------------+------------------+\n",
      "|Close to Wimbledon All England Tennis -huge double|2024-08-11  |2024              |\n",
      "|Bridgerton inspired cottage core apartment        |2024-09-14  |2024              |\n",
      "|one Double bed room with en-suite facilities      |2024-03-21  |2024              |\n",
      "|Sm double room  with own bathroom                 |2024-06-04  |2024              |\n",
      "|Superlux flat in Knightsbridge                    |2024-01-01  |2024              |\n",
      "|Central, modern pied-a-terre                      |2024-11-29  |2024              |\n",
      "|Stunning Bright Chelsea 2BR flat                  |2024-09-21  |2024              |\n",
      "|Victorian 2-bedroom upstairs flat sleeps 4        |2024-12-09  |2024              |\n",
      "|The Pink House, Notting Hill                      |2024-07-14  |2024              |\n",
      "|Stylish garden flat in Hackney                    |2024-09-15  |2024              |\n",
      "+--------------------------------------------------+------------+------------------+\n",
      "only showing top 10 rows\n"
     ]
    }
   ],
   "source": [
    "# 10. Get listings with a first review in 2024\n",
    "# Consider using the \"year\" function from \"pyspark.sql.functions\"\n",
    "import pyspark.sql.functions as sf\n",
    "# listings.select(sf.year(listings.first_review), sf.typeof(sf.year(listings.first_review))).show(5)\n",
    "listings.filter(sf.year(listings.first_review) == 2024)\\\n",
    "    .select(listings.name, listings.first_review, sf.year(listings.first_review))\\\n",
    "    .show(10, truncate=False)"
   ]
  },
  {
   "cell_type": "code",
   "execution_count": null,
   "id": "5dc42dee-95e9-4a1c-b021-b1232c954eb4",
   "metadata": {},
   "outputs": [],
   "source": []
  }
 ],
 "metadata": {
  "kernelspec": {
   "display_name": "Python 3 (ipykernel)",
   "language": "python",
   "name": "python3"
  },
  "language_info": {
   "codemirror_mode": {
    "name": "ipython",
    "version": 3
   },
   "file_extension": ".py",
   "mimetype": "text/x-python",
   "name": "python",
   "nbconvert_exporter": "python",
   "pygments_lexer": "ipython3",
   "version": "3.13.5"
  }
 },
 "nbformat": 4,
 "nbformat_minor": 5
}
