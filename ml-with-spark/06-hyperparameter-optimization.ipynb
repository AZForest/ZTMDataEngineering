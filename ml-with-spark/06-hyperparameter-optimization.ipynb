{
 "cells": [
  {
   "cell_type": "code",
   "execution_count": 2,
   "id": "8b843c43-4383-4a48-aab6-f1e10abe9447",
   "metadata": {},
   "outputs": [
    {
     "name": "stderr",
     "output_type": "stream",
     "text": [
      "25/09/01 08:46:48 WARN SparkSession: Using an existing Spark session; only runtime SQL configurations will take effect.\n"
     ]
    }
   ],
   "source": [
    "from pyspark.sql import SparkSession\n",
    "\n",
    "spark = SparkSession \\\n",
    "  .builder \\\n",
    "  .appName(\"Hotel reservations\") \\\n",
    "  .getOrCreate()"
   ]
  },
  {
   "cell_type": "code",
   "execution_count": 3,
   "id": "04de5ca9-dd2e-437e-939d-fa4a2d58a63c",
   "metadata": {},
   "outputs": [
    {
     "name": "stdout",
     "output_type": "stream",
     "text": [
      "root\n",
      " |-- Booking_ID: string (nullable = true)\n",
      " |-- no_of_adults: integer (nullable = true)\n",
      " |-- no_of_children: integer (nullable = true)\n",
      " |-- no_of_weekend_nights: integer (nullable = true)\n",
      " |-- no_of_week_nights: integer (nullable = true)\n",
      " |-- type_of_meal_plan: string (nullable = true)\n",
      " |-- required_car_parking_space: integer (nullable = true)\n",
      " |-- room_type_reserved: string (nullable = true)\n",
      " |-- lead_time: integer (nullable = true)\n",
      " |-- arrival_year: integer (nullable = true)\n",
      " |-- arrival_month: integer (nullable = true)\n",
      " |-- arrival_date: integer (nullable = true)\n",
      " |-- market_segment_type: string (nullable = true)\n",
      " |-- repeated_guest: integer (nullable = true)\n",
      " |-- no_of_previous_cancellations: integer (nullable = true)\n",
      " |-- no_of_previous_bookings_not_canceled: integer (nullable = true)\n",
      " |-- avg_price_per_room: double (nullable = true)\n",
      " |-- no_of_special_requests: integer (nullable = true)\n",
      " |-- booking_status: string (nullable = true)\n",
      "\n"
     ]
    }
   ],
   "source": [
    "data = spark.read.csv(\"data/hotel_reservations.csv\", header=True, inferSchema=True)\n",
    "\n",
    "data.printSchema()"
   ]
  },
  {
   "cell_type": "code",
   "execution_count": 4,
   "id": "2061f88f-be91-4f69-8bce-fdde06190115",
   "metadata": {},
   "outputs": [
    {
     "data": {
      "text/plain": [
       "36275"
      ]
     },
     "execution_count": 4,
     "metadata": {},
     "output_type": "execute_result"
    }
   ],
   "source": [
    "data.count()"
   ]
  },
  {
   "cell_type": "code",
   "execution_count": 5,
   "id": "2b578f3c-71ae-4e8f-b432-aded3eeafa2e",
   "metadata": {},
   "outputs": [
    {
     "name": "stdout",
     "output_type": "stream",
     "text": [
      "Train size:  29040\n",
      "Test size:  7235\n"
     ]
    }
   ],
   "source": [
    "train_data, test_data = data.randomSplit([0.8, 0.2], seed=42)\n",
    "print(\"Train size: \", train_data.count())\n",
    "print(\"Test size: \", test_data.count())                                          "
   ]
  },
  {
   "cell_type": "code",
   "execution_count": 6,
   "id": "bbed6e2a-109f-415d-b5bc-fa4a921fbd18",
   "metadata": {},
   "outputs": [
    {
     "name": "stdout",
     "output_type": "stream",
     "text": [
      "+----------+------------+--------------+--------------------+-----------------+-----------------+--------------------------+------------------+---------+------------+-------------+------------+-------------------+--------------+----------------------------+------------------------------------+------------------+----------------------+--------------+\n",
      "|Booking_ID|no_of_adults|no_of_children|no_of_weekend_nights|no_of_week_nights|type_of_meal_plan|required_car_parking_space|room_type_reserved|lead_time|arrival_year|arrival_month|arrival_date|market_segment_type|repeated_guest|no_of_previous_cancellations|no_of_previous_bookings_not_canceled|avg_price_per_room|no_of_special_requests|booking_status|\n",
      "+----------+------------+--------------+--------------------+-----------------+-----------------+--------------------------+------------------+---------+------------+-------------+------------+-------------------+--------------+----------------------------+------------------------------------+------------------+----------------------+--------------+\n",
      "|  INN00001|           2|             0|                   1|                2|      Meal Plan 1|                         0|       Room_Type 1|      224|        2017|           10|           2|            Offline|             0|                           0|                                   0|              65.0|                     0|  Not_Canceled|\n",
      "|  INN00002|           2|             0|                   2|                3|     Not Selected|                         0|       Room_Type 1|        5|        2018|           11|           6|             Online|             0|                           0|                                   0|            106.68|                     1|  Not_Canceled|\n",
      "|  INN00004|           2|             0|                   0|                2|      Meal Plan 1|                         0|       Room_Type 1|      211|        2018|            5|          20|             Online|             0|                           0|                                   0|             100.0|                     0|      Canceled|\n",
      "|  INN00005|           2|             0|                   1|                1|     Not Selected|                         0|       Room_Type 1|       48|        2018|            4|          11|             Online|             0|                           0|                                   0|              94.5|                     0|      Canceled|\n",
      "|  INN00006|           2|             0|                   0|                2|      Meal Plan 2|                         0|       Room_Type 1|      346|        2018|            9|          13|             Online|             0|                           0|                                   0|             115.0|                     1|      Canceled|\n",
      "|  INN00008|           2|             0|                   1|                3|      Meal Plan 1|                         0|       Room_Type 4|       83|        2018|           12|          26|             Online|             0|                           0|                                   0|            105.61|                     1|  Not_Canceled|\n",
      "|  INN00010|           2|             0|                   0|                5|      Meal Plan 1|                         0|       Room_Type 4|       44|        2018|           10|          18|             Online|             0|                           0|                                   0|            133.44|                     3|  Not_Canceled|\n",
      "|  INN00011|           1|             0|                   1|                0|     Not Selected|                         0|       Room_Type 1|        0|        2018|            9|          11|             Online|             0|                           0|                                   0|             85.03|                     0|  Not_Canceled|\n",
      "|  INN00012|           1|             0|                   2|                1|      Meal Plan 1|                         0|       Room_Type 4|       35|        2018|            4|          30|             Online|             0|                           0|                                   0|             140.4|                     1|  Not_Canceled|\n",
      "|  INN00013|           2|             0|                   2|                1|     Not Selected|                         0|       Room_Type 1|       30|        2018|           11|          26|             Online|             0|                           0|                                   0|              88.0|                     0|      Canceled|\n",
      "|  INN00015|           2|             0|                   0|                2|      Meal Plan 1|                         0|       Room_Type 1|       47|        2017|           10|          20|             Online|             0|                           0|                                   0|              94.5|                     2|  Not_Canceled|\n",
      "|  INN00016|           2|             0|                   0|                2|      Meal Plan 2|                         0|       Room_Type 1|      256|        2018|            6|          15|             Online|             0|                           0|                                   0|             115.0|                     1|      Canceled|\n",
      "|  INN00017|           1|             0|                   1|                0|      Meal Plan 1|                         0|       Room_Type 1|        0|        2017|           10|           5|            Offline|             0|                           0|                                   0|              96.0|                     0|  Not_Canceled|\n",
      "|  INN00018|           2|             0|                   1|                3|     Not Selected|                         0|       Room_Type 1|        1|        2017|            8|          10|             Online|             0|                           0|                                   0|              96.0|                     1|  Not_Canceled|\n",
      "|  INN00019|           2|             0|                   2|                2|      Meal Plan 1|                         0|       Room_Type 1|       99|        2017|           10|          30|             Online|             0|                           0|                                   0|              65.0|                     0|      Canceled|\n",
      "|  INN00021|           2|             0|                   2|                2|      Meal Plan 1|                         0|       Room_Type 1|       99|        2017|           10|          30|             Online|             0|                           0|                                   0|              65.0|                     0|      Canceled|\n",
      "|  INN00022|           1|             0|                   0|                1|      Meal Plan 1|                         0|       Room_Type 1|      122|        2018|           11|          25|          Corporate|             0|                           0|                                   0|              67.0|                     0|  Not_Canceled|\n",
      "|  INN00023|           2|             0|                   2|                4|      Meal Plan 1|                         0|       Room_Type 1|        2|        2018|            3|          20|            Offline|             0|                           0|                                   0|              85.0|                     0|  Not_Canceled|\n",
      "|  INN00025|           2|             0|                   2|                1|     Not Selected|                         0|       Room_Type 1|      130|        2018|            5|          22|             Online|             0|                           0|                                   0|              94.5|                     1|  Not_Canceled|\n",
      "|  INN00026|           2|             0|                   0|                2|      Meal Plan 1|                         0|       Room_Type 1|       99|        2018|            4|          28|             Online|             0|                           0|                                   0|             114.3|                     1|  Not_Canceled|\n",
      "+----------+------------+--------------+--------------------+-----------------+-----------------+--------------------------+------------------+---------+------------+-------------+------------+-------------------+--------------+----------------------------+------------------------------------+------------------+----------------------+--------------+\n",
      "only showing top 20 rows\n"
     ]
    }
   ],
   "source": [
    "train_data.show()"
   ]
  },
  {
   "cell_type": "code",
   "execution_count": 7,
   "id": "a57e9b70-6d54-482e-9821-5f8710a520a2",
   "metadata": {},
   "outputs": [],
   "source": [
    "pipeline_stages = []"
   ]
  },
  {
   "cell_type": "code",
   "execution_count": 8,
   "id": "d03e036f-e32f-4564-8a44-e4e387de6c95",
   "metadata": {},
   "outputs": [
    {
     "name": "stdout",
     "output_type": "stream",
     "text": [
      "StringIndexer type_of_meal_plan -> type_of_meal_plan_index\n",
      "OneHotEncoder type_of_meal_plan_index -> type_of_meal_plan_vec\n",
      "\n",
      "StringIndexer room_type_reserved -> room_type_reserved_index\n",
      "OneHotEncoder room_type_reserved_index -> room_type_reserved_vec\n",
      "\n",
      "StringIndexer arrival_month -> arrival_month_index\n",
      "OneHotEncoder arrival_month_index -> arrival_month_vec\n",
      "\n",
      "StringIndexer market_segment_type -> market_segment_type_index\n",
      "OneHotEncoder market_segment_type_index -> market_segment_type_vec\n",
      "\n"
     ]
    }
   ],
   "source": [
    "from pyspark.ml.feature import StringIndexer, OneHotEncoder\n",
    "\n",
    "categorical_cols = ['type_of_meal_plan', 'room_type_reserved', 'arrival_month', 'market_segment_type']\n",
    "\n",
    "for col in categorical_cols:\n",
    "    string_indexer = StringIndexer(inputCol=col, outputCol= col + '_index')\n",
    "    print(f'StringIndexer {string_indexer.getInputCol()} -> {string_indexer.getOutputCol()}')\n",
    "\n",
    "    encoder = OneHotEncoder(inputCol=string_indexer.getOutputCol(), outputCol=col + '_vec', dropLast=False)\n",
    "    print(f'OneHotEncoder {encoder.getInputCol()} -> {encoder.getOutputCol()}')\n",
    "    print()\n",
    "\n",
    "    pipeline_stages += [string_indexer, encoder]"
   ]
  },
  {
   "cell_type": "code",
   "execution_count": 9,
   "id": "4be78af1-0435-46b1-89a5-5f5b75453713",
   "metadata": {},
   "outputs": [],
   "source": [
    "pipeline_stages += [StringIndexer(inputCol='booking_status', outputCol='booking_status_index')]"
   ]
  },
  {
   "cell_type": "code",
   "execution_count": 10,
   "id": "cd54531b-c7c1-46d7-b72c-088ec208168a",
   "metadata": {},
   "outputs": [
    {
     "data": {
      "text/plain": [
       "['type_of_meal_plan_vec',\n",
       " 'room_type_reserved_vec',\n",
       " 'arrival_month_vec',\n",
       " 'market_segment_type_vec']"
      ]
     },
     "execution_count": 10,
     "metadata": {},
     "output_type": "execute_result"
    }
   ],
   "source": [
    "encoded_categorical_cols = [col + \"_vec\" for col in categorical_cols]\n",
    "encoded_categorical_cols"
   ]
  },
  {
   "cell_type": "code",
   "execution_count": 11,
   "id": "4fca889e-f1ea-4bee-afca-40e514ab339c",
   "metadata": {},
   "outputs": [],
   "source": [
    "numeric_cols = ['no_of_adults', 'no_of_children', 'no_of_weekend_nights', 'no_of_week_nights',\n",
    "               'required_car_parking_space', 'lead_time',\n",
    "               'repeated_guest', 'no_of_previous_cancellations', 'no_of_previous_bookings_not_canceled',\n",
    "               'avg_price_per_room', 'no_of_special_requests'] "
   ]
  },
  {
   "cell_type": "code",
   "execution_count": 12,
   "id": "993dd626-bbaa-4bd7-be3e-132ffd703622",
   "metadata": {},
   "outputs": [
    {
     "data": {
      "text/plain": [
       "['type_of_meal_plan_vec',\n",
       " 'room_type_reserved_vec',\n",
       " 'arrival_month_vec',\n",
       " 'market_segment_type_vec',\n",
       " 'no_of_adults',\n",
       " 'no_of_children',\n",
       " 'no_of_weekend_nights',\n",
       " 'no_of_week_nights',\n",
       " 'required_car_parking_space',\n",
       " 'lead_time',\n",
       " 'repeated_guest',\n",
       " 'no_of_previous_cancellations',\n",
       " 'no_of_previous_bookings_not_canceled',\n",
       " 'avg_price_per_room',\n",
       " 'no_of_special_requests']"
      ]
     },
     "execution_count": 12,
     "metadata": {},
     "output_type": "execute_result"
    }
   ],
   "source": [
    "input_columns = encoded_categorical_cols + numeric_cols\n",
    "input_columns"
   ]
  },
  {
   "cell_type": "code",
   "execution_count": 13,
   "id": "e3822f30-2423-4f80-b920-1a602a1a955d",
   "metadata": {},
   "outputs": [],
   "source": [
    "from pyspark.ml.feature import VectorAssembler\n",
    "\n",
    "assembler = VectorAssembler(inputCols=input_columns, outputCol='features')\n",
    "\n",
    "pipeline_stages.append(assembler)"
   ]
  },
  {
   "cell_type": "code",
   "execution_count": 14,
   "id": "72dfba54-6785-4375-b356-ec8fa567982c",
   "metadata": {},
   "outputs": [],
   "source": [
    "from pyspark.ml.classification import DecisionTreeClassifier\n",
    "\n",
    "dtc = DecisionTreeClassifier(featuresCol='features', labelCol='booking_status_index')\n",
    "\n",
    "pipeline_stages.append(dtc)"
   ]
  },
  {
   "cell_type": "code",
   "execution_count": 15,
   "id": "e7a5ab2f-45e6-43c0-b918-7244d2e2bbea",
   "metadata": {},
   "outputs": [
    {
     "data": {
      "text/plain": [
       "[StringIndexer_e1ce7a965494,\n",
       " OneHotEncoder_a176f56222b5,\n",
       " StringIndexer_ff7aa6547196,\n",
       " OneHotEncoder_42af1b483615,\n",
       " StringIndexer_05cf5c24719c,\n",
       " OneHotEncoder_78a9cda439ce,\n",
       " StringIndexer_1f1eb4381aa9,\n",
       " OneHotEncoder_ef98fcf9fc2b,\n",
       " StringIndexer_5377333499e8,\n",
       " VectorAssembler_a42f14d985f0,\n",
       " DecisionTreeClassifier_2fe9ae61842a]"
      ]
     },
     "execution_count": 15,
     "metadata": {},
     "output_type": "execute_result"
    }
   ],
   "source": [
    "pipeline_stages"
   ]
  },
  {
   "cell_type": "code",
   "execution_count": 16,
   "id": "670a1ace-0923-43c7-b21d-9854ab7112a1",
   "metadata": {},
   "outputs": [],
   "source": [
    "from pyspark.ml import Pipeline\n",
    "\n",
    "pipeline = Pipeline(stages=pipeline_stages)"
   ]
  },
  {
   "cell_type": "code",
   "execution_count": 17,
   "id": "6fa858b3-a175-4583-8c76-36c14b17df18",
   "metadata": {},
   "outputs": [
    {
     "name": "stderr",
     "output_type": "stream",
     "text": [
      "25/09/01 08:47:05 WARN SparkStringUtils: Truncated the string representation of a plan since it was too large. This behavior can be adjusted by setting 'spark.sql.debug.maxToStringFields'.\n"
     ]
    }
   ],
   "source": [
    "from pyspark.ml.tuning import TrainValidationSplit, ParamGridBuilder\n",
    "\n",
    "from pyspark.ml.evaluation import MulticlassClassificationEvaluator\n",
    "\n",
    "paramGrid = ParamGridBuilder() \\\n",
    "  .addGrid(dtc.maxDepth, [2, 5, 10]) \\\n",
    "  .addGrid(dtc.maxBins, [10, 20, 40]) \\\n",
    "  .addGrid(dtc.minInstancesPerNode, [1, 2, 4]) \\\n",
    "  .build()\n",
    "\n",
    "\n",
    "evaluator = MulticlassClassificationEvaluator(\n",
    "    labelCol='booking_status_index',\n",
    "    predictionCol='prediction',\n",
    "    metricName='accuracy'\n",
    ")\n",
    "\n",
    "tvs_model = TrainValidationSplit(\n",
    "    estimator=pipeline,\n",
    "    estimatorParamMaps=paramGrid,\n",
    "    evaluator=evaluator,\n",
    "    seed=42\n",
    ")\n",
    "\n",
    "best_model = tvs_model.fit(train_data)"
   ]
  },
  {
   "cell_type": "code",
   "execution_count": 18,
   "id": "63e10453-ccd1-4707-b8e8-1e71bccb53e7",
   "metadata": {},
   "outputs": [],
   "source": [
    "predictions = best_model.transform(test_data)"
   ]
  },
  {
   "cell_type": "code",
   "execution_count": 19,
   "id": "497f61d2-d100-4057-9815-1b13a418ff81",
   "metadata": {},
   "outputs": [
    {
     "name": "stdout",
     "output_type": "stream",
     "text": [
      "Accuracy = 86.19%\n"
     ]
    }
   ],
   "source": [
    "accuracy = evaluator.evaluate(predictions) * 100\n",
    "print(f'Accuracy = {accuracy:.2f}%')"
   ]
  },
  {
   "cell_type": "code",
   "execution_count": 20,
   "id": "f5e94ea4-fcdf-4a96-8fe3-5d0c56af659a",
   "metadata": {},
   "outputs": [
    {
     "name": "stdout",
     "output_type": "stream",
     "text": [
      "maxDepth = 2\n",
      "maxBins = 10\n",
      "minInstancesPerNode = 1\n",
      "Accuracy -> 0.7668415240198785\n",
      "maxDepth = 2\n",
      "maxBins = 10\n",
      "minInstancesPerNode = 2\n",
      "Accuracy -> 0.7668415240198785\n",
      "maxDepth = 2\n",
      "maxBins = 10\n",
      "minInstancesPerNode = 4\n",
      "Accuracy -> 0.7668415240198785\n",
      "maxDepth = 2\n",
      "maxBins = 20\n",
      "minInstancesPerNode = 1\n",
      "Accuracy -> 0.7668415240198785\n",
      "maxDepth = 2\n",
      "maxBins = 20\n",
      "minInstancesPerNode = 2\n",
      "Accuracy -> 0.7668415240198785\n",
      "maxDepth = 2\n",
      "maxBins = 20\n",
      "minInstancesPerNode = 4\n",
      "Accuracy -> 0.7668415240198785\n",
      "maxDepth = 2\n",
      "maxBins = 40\n",
      "minInstancesPerNode = 1\n",
      "Accuracy -> 0.7668415240198785\n",
      "maxDepth = 2\n",
      "maxBins = 40\n",
      "minInstancesPerNode = 2\n",
      "Accuracy -> 0.7668415240198785\n",
      "maxDepth = 2\n",
      "maxBins = 40\n",
      "minInstancesPerNode = 4\n",
      "Accuracy -> 0.7668415240198785\n",
      "maxDepth = 5\n",
      "maxBins = 10\n",
      "minInstancesPerNode = 1\n",
      "Accuracy -> 0.8256488128106019\n",
      "maxDepth = 5\n",
      "maxBins = 10\n",
      "minInstancesPerNode = 2\n",
      "Accuracy -> 0.8256488128106019\n",
      "maxDepth = 5\n",
      "maxBins = 10\n",
      "minInstancesPerNode = 4\n",
      "Accuracy -> 0.8256488128106019\n",
      "maxDepth = 5\n",
      "maxBins = 20\n",
      "minInstancesPerNode = 1\n",
      "Accuracy -> 0.8293760353395914\n",
      "maxDepth = 5\n",
      "maxBins = 20\n",
      "minInstancesPerNode = 2\n",
      "Accuracy -> 0.8293760353395914\n",
      "maxDepth = 5\n",
      "maxBins = 20\n",
      "minInstancesPerNode = 4\n",
      "Accuracy -> 0.8293760353395914\n",
      "maxDepth = 5\n",
      "maxBins = 40\n",
      "minInstancesPerNode = 1\n",
      "Accuracy -> 0.8317228050800662\n",
      "maxDepth = 5\n",
      "maxBins = 40\n",
      "minInstancesPerNode = 2\n",
      "Accuracy -> 0.8317228050800662\n",
      "maxDepth = 5\n",
      "maxBins = 40\n",
      "minInstancesPerNode = 4\n",
      "Accuracy -> 0.8317228050800662\n",
      "maxDepth = 10\n",
      "maxBins = 10\n",
      "minInstancesPerNode = 1\n",
      "Accuracy -> 0.8614025400331309\n",
      "maxDepth = 10\n",
      "maxBins = 10\n",
      "minInstancesPerNode = 2\n",
      "Accuracy -> 0.8598840419657647\n",
      "maxDepth = 10\n",
      "maxBins = 10\n",
      "minInstancesPerNode = 4\n",
      "Accuracy -> 0.8598840419657647\n",
      "maxDepth = 10\n",
      "maxBins = 20\n",
      "minInstancesPerNode = 1\n",
      "Accuracy -> 0.8615405853119823\n",
      "maxDepth = 10\n",
      "maxBins = 20\n",
      "minInstancesPerNode = 2\n",
      "Accuracy -> 0.8600220872446163\n",
      "maxDepth = 10\n",
      "maxBins = 20\n",
      "minInstancesPerNode = 4\n",
      "Accuracy -> 0.8589177250138045\n",
      "maxDepth = 10\n",
      "maxBins = 40\n",
      "minInstancesPerNode = 1\n",
      "Accuracy -> 0.8660960795140806\n",
      "maxDepth = 10\n",
      "maxBins = 40\n",
      "minInstancesPerNode = 2\n",
      "Accuracy -> 0.864715626725566\n",
      "maxDepth = 10\n",
      "maxBins = 40\n",
      "minInstancesPerNode = 4\n",
      "Accuracy -> 0.8641634456101601\n"
     ]
    }
   ],
   "source": [
    "for param_values, metric_value in zip(paramGrid, best_model.validationMetrics):\n",
    "    for param, value in param_values.items():\n",
    "        print(f'{param.name} = {value}')\n",
    "    print(f'Accuracy -> {metric_value}')"
   ]
  },
  {
   "cell_type": "code",
   "execution_count": null,
   "id": "00a8f706-1169-41fa-b370-888401ed6901",
   "metadata": {},
   "outputs": [],
   "source": []
  }
 ],
 "metadata": {
  "kernelspec": {
   "display_name": "Python 3 (ipykernel)",
   "language": "python",
   "name": "python3"
  },
  "language_info": {
   "codemirror_mode": {
    "name": "ipython",
    "version": 3
   },
   "file_extension": ".py",
   "mimetype": "text/x-python",
   "name": "python",
   "nbconvert_exporter": "python",
   "pygments_lexer": "ipython3",
   "version": "3.13.5"
  }
 },
 "nbformat": 4,
 "nbformat_minor": 5
}
