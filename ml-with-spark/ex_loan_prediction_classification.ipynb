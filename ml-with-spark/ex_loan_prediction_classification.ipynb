{
 "cells": [
  {
   "cell_type": "code",
   "execution_count": 169,
   "id": "039b794b-7333-4793-816e-7d6c65e776ec",
   "metadata": {},
   "outputs": [],
   "source": [
    "from pyspark.sql import SparkSession\n",
    "import pyspark.sql.functions as F\n",
    "\n",
    "spark = SparkSession \\\n",
    "  .builder \\\n",
    "  .appName(\"Exercise for loan prediction classification\") \\\n",
    "  .getOrCreate()"
   ]
  },
  {
   "cell_type": "code",
   "execution_count": 170,
   "id": "010c5ef4-3002-44f3-a96b-daf43317bf42",
   "metadata": {},
   "outputs": [
    {
     "name": "stdout",
     "output_type": "stream",
     "text": [
      "root\n",
      " |-- Loan_ID: string (nullable = true)\n",
      " |-- Gender: string (nullable = true)\n",
      " |-- Married: string (nullable = true)\n",
      " |-- Dependents: string (nullable = true)\n",
      " |-- Education: string (nullable = true)\n",
      " |-- Self_Employed: string (nullable = true)\n",
      " |-- ApplicantIncome: integer (nullable = true)\n",
      " |-- CoapplicantIncome: double (nullable = true)\n",
      " |-- LoanAmount: integer (nullable = true)\n",
      " |-- Loan_Amount_Term: integer (nullable = true)\n",
      " |-- Credit_History: integer (nullable = true)\n",
      " |-- Property_Area: string (nullable = true)\n",
      " |-- Loan_Status: string (nullable = true)\n",
      "\n"
     ]
    }
   ],
   "source": [
    "data = spark.read.csv(\"data/loan_prediction_problem_dataset.csv\", header=True, inferSchema=True)\n",
    "\n",
    "data.printSchema()"
   ]
  },
  {
   "cell_type": "code",
   "execution_count": 171,
   "id": "750bfc8d-661c-492b-970e-ed279d0c27ee",
   "metadata": {},
   "outputs": [
    {
     "name": "stdout",
     "output_type": "stream",
     "text": [
      "+-------+------+-------+----------+---------+-------------+---------------+-----------------+----------+----------------+--------------+-------------+-----------+\n",
      "|Loan_ID|Gender|Married|Dependents|Education|Self_Employed|ApplicantIncome|CoapplicantIncome|LoanAmount|Loan_Amount_Term|Credit_History|Property_Area|Loan_Status|\n",
      "+-------+------+-------+----------+---------+-------------+---------------+-----------------+----------+----------------+--------------+-------------+-----------+\n",
      "|    614|   601|    611|       599|      614|          582|            614|              614|       592|             600|           564|          614|        614|\n",
      "+-------+------+-------+----------+---------+-------------+---------------+-----------------+----------+----------------+--------------+-------------+-----------+\n",
      "\n"
     ]
    }
   ],
   "source": [
    "data \\\n",
    "    .select([F.count(F.when(F.col(c).isNotNull(), 1)).alias(c) for c in data.columns]) \\\n",
    "    .show()"
   ]
  },
  {
   "cell_type": "code",
   "execution_count": 172,
   "id": "ebfc24a1-0690-4271-b0d0-3b8a6006c490",
   "metadata": {},
   "outputs": [],
   "source": [
    "clean_df = data.dropna()"
   ]
  },
  {
   "cell_type": "code",
   "execution_count": 173,
   "id": "6721c33d-959a-4b72-877d-a28d8ea6b7ac",
   "metadata": {},
   "outputs": [
    {
     "name": "stdout",
     "output_type": "stream",
     "text": [
      "+-------+------+-------+----------+---------+-------------+---------------+-----------------+----------+----------------+--------------+-------------+-----------+\n",
      "|Loan_ID|Gender|Married|Dependents|Education|Self_Employed|ApplicantIncome|CoapplicantIncome|LoanAmount|Loan_Amount_Term|Credit_History|Property_Area|Loan_Status|\n",
      "+-------+------+-------+----------+---------+-------------+---------------+-----------------+----------+----------------+--------------+-------------+-----------+\n",
      "|    480|   480|    480|       480|      480|          480|            480|              480|       480|             480|           480|          480|        480|\n",
      "+-------+------+-------+----------+---------+-------------+---------------+-----------------+----------+----------------+--------------+-------------+-----------+\n",
      "\n"
     ]
    }
   ],
   "source": [
    "clean_df \\\n",
    "    .select([F.count(F.when(F.col(c).isNotNull(), 1)).alias(c) for c in data.columns]) \\\n",
    "    .show()"
   ]
  },
  {
   "cell_type": "code",
   "execution_count": 174,
   "id": "6fa0c067-e659-4c53-a925-09d9c11feef2",
   "metadata": {},
   "outputs": [
    {
     "name": "stdout",
     "output_type": "stream",
     "text": [
      "+-----------+\n",
      "|Loan_Status|\n",
      "+-----------+\n",
      "|          N|\n",
      "|          Y|\n",
      "|          Y|\n",
      "|          Y|\n",
      "|          Y|\n",
      "|          Y|\n",
      "|          N|\n",
      "|          Y|\n",
      "|          N|\n",
      "|          Y|\n",
      "|          Y|\n",
      "|          N|\n",
      "|          Y|\n",
      "|          Y|\n",
      "|          N|\n",
      "|          N|\n",
      "|          N|\n",
      "|          Y|\n",
      "|          N|\n",
      "|          Y|\n",
      "+-----------+\n",
      "only showing top 20 rows\n"
     ]
    }
   ],
   "source": [
    "clean_df.select(\"Loan_Status\").show()"
   ]
  },
  {
   "cell_type": "code",
   "execution_count": 175,
   "id": "f85b7e22-1fd2-405e-969d-dc163c6834c8",
   "metadata": {},
   "outputs": [
    {
     "name": "stdout",
     "output_type": "stream",
     "text": [
      "Train size:  409\n",
      "Test size:  71\n"
     ]
    }
   ],
   "source": [
    "train_data, test_data = clean_df.randomSplit([0.8, 0.2], seed=42)\n",
    "ph_train_data = train_data\n",
    "ph_test_data = test_data\n",
    "print(\"Train size: \", train_data.count())\n",
    "print(\"Test size: \", test_data.count())                                          "
   ]
  },
  {
   "cell_type": "code",
   "execution_count": 176,
   "id": "18b2e70b-2e41-477c-b780-b134eafdaa66",
   "metadata": {},
   "outputs": [],
   "source": [
    "pipeline_stages = []"
   ]
  },
  {
   "cell_type": "code",
   "execution_count": 177,
   "id": "7a81c5c4-df7e-4ad4-ae76-990b93328609",
   "metadata": {},
   "outputs": [
    {
     "data": {
      "text/plain": [
       "['Loan_ID',\n",
       " 'Gender',\n",
       " 'Married',\n",
       " 'Dependents',\n",
       " 'Education',\n",
       " 'Self_Employed',\n",
       " 'Property_Area',\n",
       " 'Loan_Status']"
      ]
     },
     "execution_count": 177,
     "metadata": {},
     "output_type": "execute_result"
    }
   ],
   "source": [
    "from pyspark.sql.types import StringType\n",
    "\n",
    "stringCols = []\n",
    "for column in train_data.columns:\n",
    "    if isinstance(train_data.schema[column].dataType, StringType):\n",
    "        # print(f\"Column '{column}' is of type string.\")\n",
    "        stringCols.append(column)\n",
    "stringCols"
   ]
  },
  {
   "cell_type": "code",
   "execution_count": 178,
   "id": "03e345b7-31e2-4b83-a530-394a7e47b353",
   "metadata": {},
   "outputs": [
    {
     "name": "stdout",
     "output_type": "stream",
     "text": [
      "+--------+------+-------+----------+------------+-------------+---------------+-----------------+----------+----------------+--------------+-------------+-----------+-------------+------------+-------------+----------------+---------------+-------------------+-------------------+-----------------+\n",
      "| Loan_ID|Gender|Married|Dependents|   Education|Self_Employed|ApplicantIncome|CoapplicantIncome|LoanAmount|Loan_Amount_Term|Credit_History|Property_Area|Loan_Status|Loan_ID_index|Gender_index|Married_index|Dependents_index|Education_index|Self_Employed_index|Property_Area_index|Loan_Status_index|\n",
      "+--------+------+-------+----------+------------+-------------+---------------+-----------------+----------+----------------+--------------+-------------+-----------+-------------+------------+-------------+----------------+---------------+-------------------+-------------------+-----------------+\n",
      "|LP001003|  Male|    Yes|         1|    Graduate|           No|           4583|           1508.0|       128|             360|             1|        Rural|          N|          0.0|         0.0|          0.0|             2.0|            0.0|                0.0|                2.0|              1.0|\n",
      "|LP001005|  Male|    Yes|         0|    Graduate|          Yes|           3000|              0.0|        66|             360|             1|        Urban|          Y|          1.0|         0.0|          0.0|             0.0|            0.0|                1.0|                1.0|              0.0|\n",
      "|LP001008|  Male|     No|         0|    Graduate|           No|           6000|              0.0|       141|             360|             1|        Urban|          Y|          2.0|         0.0|          1.0|             0.0|            0.0|                0.0|                1.0|              0.0|\n",
      "|LP001011|  Male|    Yes|         2|    Graduate|          Yes|           5417|           4196.0|       267|             360|             1|        Urban|          Y|          3.0|         0.0|          0.0|             1.0|            0.0|                1.0|                1.0|              0.0|\n",
      "|LP001013|  Male|    Yes|         0|Not Graduate|           No|           2333|           1516.0|        95|             360|             1|        Urban|          Y|          4.0|         0.0|          0.0|             0.0|            1.0|                0.0|                1.0|              0.0|\n",
      "+--------+------+-------+----------+------------+-------------+---------------+-----------------+----------+----------------+--------------+-------------+-----------+-------------+------------+-------------+----------------+---------------+-------------------+-------------------+-----------------+\n",
      "only showing top 5 rows\n"
     ]
    }
   ],
   "source": [
    "from pyspark.ml.feature import StringIndexer\n",
    "from pyspark.ml import Pipeline\n",
    "\n",
    "stages=[]\n",
    "for column in stringCols:\n",
    "    indexer = StringIndexer(inputCol=column, outputCol=f'{column}_index', handleInvalid=\"keep\")\n",
    "    # indexer_model = indexer.fit(train_data)\n",
    "    stages.append(indexer)\n",
    "    \n",
    "indexer_pipeline = Pipeline(stages=stages)\n",
    "#\n",
    "pipeline_stages.append(indexer_pipeline)\n",
    "#\n",
    "indexer_pipeline_model = indexer_pipeline.fit(train_data)\n",
    "    \n",
    "train_data = indexer_pipeline_model.transform(train_data)\n",
    "train_data.show(5)"
   ]
  },
  {
   "cell_type": "code",
   "execution_count": 179,
   "id": "b0aaba9d-06b6-4d4e-9722-d7c35731bb11",
   "metadata": {},
   "outputs": [
    {
     "name": "stdout",
     "output_type": "stream",
     "text": [
      "+-----------+-----------------+\n",
      "|Loan_Status|Loan_Status_index|\n",
      "+-----------+-----------------+\n",
      "|          N|              1.0|\n",
      "|          Y|              0.0|\n",
      "|          Y|              0.0|\n",
      "|          Y|              0.0|\n",
      "|          Y|              0.0|\n",
      "|          Y|              0.0|\n",
      "|          Y|              0.0|\n",
      "|          Y|              0.0|\n",
      "|          N|              1.0|\n",
      "|          Y|              0.0|\n",
      "|          N|              1.0|\n",
      "|          N|              1.0|\n",
      "|          N|              1.0|\n",
      "|          Y|              0.0|\n",
      "|          N|              1.0|\n",
      "|          Y|              0.0|\n",
      "|          Y|              0.0|\n",
      "|          N|              1.0|\n",
      "|          N|              1.0|\n",
      "|          Y|              0.0|\n",
      "+-----------+-----------------+\n",
      "only showing top 20 rows\n"
     ]
    }
   ],
   "source": [
    "train_data.select(\"Loan_Status\", \"Loan_Status_index\").show()"
   ]
  },
  {
   "cell_type": "code",
   "execution_count": 180,
   "id": "6e77d43d-e052-4937-bcac-89ed0eb9ea37",
   "metadata": {},
   "outputs": [],
   "source": [
    "# train_data.show(5)\n",
    "stringCols.remove('Loan_Status')"
   ]
  },
  {
   "cell_type": "code",
   "execution_count": 181,
   "id": "15d875ba-ec56-496d-ab7e-27997ffbd8da",
   "metadata": {},
   "outputs": [
    {
     "name": "stdout",
     "output_type": "stream",
     "text": [
      "+--------+------+-------+----------+------------+-------------+---------------+-----------------+----------+----------------+--------------+-------------+-----------+-------------+------------+-------------+----------------+---------------+-------------------+-------------------+-----------------+---------------+-------------+-------------+--------------+-------------+-----------------+-----------------+\n",
      "| Loan_ID|Gender|Married|Dependents|   Education|Self_Employed|ApplicantIncome|CoapplicantIncome|LoanAmount|Loan_Amount_Term|Credit_History|Property_Area|Loan_Status|Loan_ID_index|Gender_index|Married_index|Dependents_index|Education_index|Self_Employed_index|Property_Area_index|Loan_Status_index|    Loan_ID_vec|   Gender_vec|  Married_vec|Dependents_vec|Education_vec|Self_Employed_vec|Property_Area_vec|\n",
      "+--------+------+-------+----------+------------+-------------+---------------+-----------------+----------+----------------+--------------+-------------+-----------+-------------+------------+-------------+----------------+---------------+-------------------+-------------------+-----------------+---------------+-------------+-------------+--------------+-------------+-----------------+-----------------+\n",
      "|LP001003|  Male|    Yes|         1|    Graduate|           No|           4583|           1508.0|       128|             360|             1|        Rural|          N|          0.0|         0.0|          0.0|             2.0|            0.0|                0.0|                2.0|              1.0|(410,[0],[1.0])|(3,[0],[1.0])|(3,[0],[1.0])| (5,[2],[1.0])|(3,[0],[1.0])|    (3,[0],[1.0])|    (4,[2],[1.0])|\n",
      "|LP001005|  Male|    Yes|         0|    Graduate|          Yes|           3000|              0.0|        66|             360|             1|        Urban|          Y|          1.0|         0.0|          0.0|             0.0|            0.0|                1.0|                1.0|              0.0|(410,[1],[1.0])|(3,[0],[1.0])|(3,[0],[1.0])| (5,[0],[1.0])|(3,[0],[1.0])|    (3,[1],[1.0])|    (4,[1],[1.0])|\n",
      "|LP001008|  Male|     No|         0|    Graduate|           No|           6000|              0.0|       141|             360|             1|        Urban|          Y|          2.0|         0.0|          1.0|             0.0|            0.0|                0.0|                1.0|              0.0|(410,[2],[1.0])|(3,[0],[1.0])|(3,[1],[1.0])| (5,[0],[1.0])|(3,[0],[1.0])|    (3,[0],[1.0])|    (4,[1],[1.0])|\n",
      "|LP001011|  Male|    Yes|         2|    Graduate|          Yes|           5417|           4196.0|       267|             360|             1|        Urban|          Y|          3.0|         0.0|          0.0|             1.0|            0.0|                1.0|                1.0|              0.0|(410,[3],[1.0])|(3,[0],[1.0])|(3,[0],[1.0])| (5,[1],[1.0])|(3,[0],[1.0])|    (3,[1],[1.0])|    (4,[1],[1.0])|\n",
      "|LP001013|  Male|    Yes|         0|Not Graduate|           No|           2333|           1516.0|        95|             360|             1|        Urban|          Y|          4.0|         0.0|          0.0|             0.0|            1.0|                0.0|                1.0|              0.0|(410,[4],[1.0])|(3,[0],[1.0])|(3,[0],[1.0])| (5,[0],[1.0])|(3,[1],[1.0])|    (3,[0],[1.0])|    (4,[1],[1.0])|\n",
      "+--------+------+-------+----------+------------+-------------+---------------+-----------------+----------+----------------+--------------+-------------+-----------+-------------+------------+-------------+----------------+---------------+-------------------+-------------------+-----------------+---------------+-------------+-------------+--------------+-------------+-----------------+-----------------+\n",
      "only showing top 5 rows\n"
     ]
    }
   ],
   "source": [
    "from pyspark.ml.feature import OneHotEncoder\n",
    "from pyspark.ml import Pipeline\n",
    "\n",
    "e_stages=[]\n",
    "for column in stringCols:\n",
    "    encoder = OneHotEncoder(inputCol=f'{column}_index', outputCol=f'{column}_vec', dropLast=False)\n",
    "    e_stages.append(encoder)\n",
    "\n",
    "encoder_pipeline = Pipeline(stages=e_stages)\n",
    "#\n",
    "pipeline_stages.append(encoder_pipeline)\n",
    "#\n",
    "encoder_pipeline_model = encoder_pipeline.fit(train_data)\n",
    "train_data = encoder_pipeline_model.transform(train_data)\n",
    "train_data.show(5)"
   ]
  },
  {
   "cell_type": "code",
   "execution_count": 182,
   "id": "ba9fa7cb-dc60-4b44-aaca-1ffebfd7dde6",
   "metadata": {},
   "outputs": [
    {
     "data": {
      "text/plain": [
       "['ApplicantIncome',\n",
       " 'CoapplicantIncome',\n",
       " 'LoanAmount',\n",
       " 'Loan_Amount_Term',\n",
       " 'Credit_History',\n",
       " 'Loan_ID_vec',\n",
       " 'Gender_vec',\n",
       " 'Married_vec',\n",
       " 'Dependents_vec',\n",
       " 'Education_vec',\n",
       " 'Self_Employed_vec',\n",
       " 'Property_Area_vec']"
      ]
     },
     "execution_count": 182,
     "metadata": {},
     "output_type": "execute_result"
    }
   ],
   "source": [
    "columns_for_assembler = []\n",
    "for column in train_data.columns:\n",
    "    # print(f'{column} -> {(train_data.schema[column].dataType)}')\n",
    "    if not isinstance(train_data.schema[column].dataType, StringType) and \\\n",
    "    \"_index\" not in column:\n",
    "        columns_for_assembler.append(column)\n",
    "columns_for_assembler"
   ]
  },
  {
   "cell_type": "code",
   "execution_count": 183,
   "id": "4bbbacee-86db-4b60-aa08-19f65bdcba28",
   "metadata": {},
   "outputs": [],
   "source": [
    "# for column in train_data.columns:\n",
    "#     print(f'{column} -> {(train_data.schema[column].dataType)}')"
   ]
  },
  {
   "cell_type": "code",
   "execution_count": 184,
   "id": "3d70f6be-f22e-464a-81b9-38eeabf4eb01",
   "metadata": {},
   "outputs": [],
   "source": [
    "from pyspark.ml.feature import VectorAssembler\n",
    "\n",
    "assembler = VectorAssembler(inputCols=columns_for_assembler, outputCol='unscaled_features')\n",
    "#\n",
    "pipeline_stages.append(assembler)\n",
    "#\n",
    "train_data = assembler.transform(train_data)"
   ]
  },
  {
   "cell_type": "code",
   "execution_count": null,
   "id": "44c841ad-4f61-441c-9a32-a0af2cad1b9e",
   "metadata": {},
   "outputs": [],
   "source": []
  },
  {
   "cell_type": "code",
   "execution_count": 185,
   "id": "2414f0c9-adb3-4f0a-bcb1-b7153df34c9a",
   "metadata": {},
   "outputs": [],
   "source": [
    "from pyspark.ml.feature import StandardScaler\n",
    "\n",
    "scaler = StandardScaler(inputCol='unscaled_features', outputCol='features', withMean=True, withStd=True)\n",
    "#\n",
    "pipeline_stages.append(scaler)\n",
    "#\n",
    "scaler_model = scaler.fit(train_data)\n",
    "transformed_train_data = scaler_model.transform(train_data)\n",
    "# transformed_train_data.show()"
   ]
  },
  {
   "cell_type": "code",
   "execution_count": 186,
   "id": "3ec471cd-4fbc-4b6c-a569-b951dd6e5fe6",
   "metadata": {},
   "outputs": [
    {
     "name": "stdout",
     "output_type": "stream",
     "text": [
      "+--------+------+-------+----------+------------+-------------+---------------+-----------------+----------+----------------+--------------+-------------+-----------+-------------+------------+-------------+----------------+---------------+-------------------+-------------------+-----------------+---------------+-------------+-------------+--------------+-------------+-----------------+-----------------+--------------------+--------------------+\n",
      "| Loan_ID|Gender|Married|Dependents|   Education|Self_Employed|ApplicantIncome|CoapplicantIncome|LoanAmount|Loan_Amount_Term|Credit_History|Property_Area|Loan_Status|Loan_ID_index|Gender_index|Married_index|Dependents_index|Education_index|Self_Employed_index|Property_Area_index|Loan_Status_index|    Loan_ID_vec|   Gender_vec|  Married_vec|Dependents_vec|Education_vec|Self_Employed_vec|Property_Area_vec|   unscaled_features|            features|\n",
      "+--------+------+-------+----------+------------+-------------+---------------+-----------------+----------+----------------+--------------+-------------+-----------+-------------+------------+-------------+----------------+---------------+-------------------+-------------------+-----------------+---------------+-------------+-------------+--------------+-------------+-----------------+-----------------+--------------------+--------------------+\n",
      "|LP001003|  Male|    Yes|         1|    Graduate|           No|           4583|           1508.0|       128|             360|             1|        Rural|          N|          0.0|         0.0|          0.0|             2.0|            0.0|                0.0|                2.0|              1.0|(410,[0],[1.0])|(3,[0],[1.0])|(3,[0],[1.0])| (5,[2],[1.0])|(3,[0],[1.0])|    (3,[0],[1.0])|    (4,[2],[1.0])|(436,[0,1,2,3,4,5...|[-0.1499017312795...|\n",
      "|LP001005|  Male|    Yes|         0|    Graduate|          Yes|           3000|              0.0|        66|             360|             1|        Urban|          Y|          1.0|         0.0|          0.0|             0.0|            0.0|                1.0|                1.0|              0.0|(410,[1],[1.0])|(3,[0],[1.0])|(3,[0],[1.0])| (5,[0],[1.0])|(3,[0],[1.0])|    (3,[1],[1.0])|    (4,[1],[1.0])|(436,[0,2,3,4,6,4...|[-0.4142610026263...|\n",
      "|LP001008|  Male|     No|         0|    Graduate|           No|           6000|              0.0|       141|             360|             1|        Urban|          Y|          2.0|         0.0|          1.0|             0.0|            0.0|                0.0|                1.0|              0.0|(410,[2],[1.0])|(3,[0],[1.0])|(3,[1],[1.0])| (5,[0],[1.0])|(3,[0],[1.0])|    (3,[0],[1.0])|    (4,[1],[1.0])|(436,[0,2,3,4,7,4...|[0.08673572134108...|\n",
      "|LP001011|  Male|    Yes|         2|    Graduate|          Yes|           5417|           4196.0|       267|             360|             1|        Urban|          Y|          3.0|         0.0|          0.0|             1.0|            0.0|                1.0|                1.0|              0.0|(410,[3],[1.0])|(3,[0],[1.0])|(3,[0],[1.0])| (5,[1],[1.0])|(3,[0],[1.0])|    (3,[1],[1.0])|    (4,[1],[1.0])|(436,[0,1,2,3,4,8...|[-0.0106246420165...|\n",
      "|LP001013|  Male|    Yes|         0|Not Graduate|           No|           2333|           1516.0|        95|             360|             1|        Urban|          Y|          4.0|         0.0|          0.0|             0.0|            1.0|                0.0|                1.0|              0.0|(410,[4],[1.0])|(3,[0],[1.0])|(3,[0],[1.0])| (5,[0],[1.0])|(3,[1],[1.0])|    (3,[0],[1.0])|    (4,[1],[1.0])|(436,[0,1,2,3,4,9...|[-0.5256492742551...|\n",
      "+--------+------+-------+----------+------------+-------------+---------------+-----------------+----------+----------------+--------------+-------------+-----------+-------------+------------+-------------+----------------+---------------+-------------------+-------------------+-----------------+---------------+-------------+-------------+--------------+-------------+-----------------+-----------------+--------------------+--------------------+\n",
      "only showing top 5 rows\n"
     ]
    }
   ],
   "source": [
    "transformed_train_data.show(5)"
   ]
  },
  {
   "cell_type": "code",
   "execution_count": 187,
   "id": "e8ada4d3-f596-4282-9a1d-645f98403df3",
   "metadata": {},
   "outputs": [],
   "source": [
    "from pyspark.ml.classification import DecisionTreeClassifier\n",
    "\n",
    "dtc = DecisionTreeClassifier(featuresCol='features', labelCol='Loan_Status_index')\n",
    "#\n",
    "pipeline_stages.append(dtc)\n",
    "#\n",
    "model = dtc.fit(transformed_train_data)"
   ]
  },
  {
   "cell_type": "code",
   "execution_count": 188,
   "id": "e3f7c9e2-a7df-4012-834a-29e4aa746ec9",
   "metadata": {},
   "outputs": [],
   "source": [
    "from pyspark.ml import Pipeline\n",
    "\n",
    "pipeline = Pipeline(stages=pipeline_stages)"
   ]
  },
  {
   "cell_type": "code",
   "execution_count": 189,
   "id": "8e87b688-3320-466b-a61c-996db0d2d568",
   "metadata": {},
   "outputs": [
    {
     "name": "stdout",
     "output_type": "stream",
     "text": [
      "+--------+------+-------+----------+------------+-------------+---------------+-----------------+----------+----------------+--------------+-------------+-----------+-------------+------------+-------------+----------------+---------------+-------------------+-------------------+-----------------+---------------+-------------+-------------+--------------+-------------+-----------------+-----------------+--------------------+--------------------+\n",
      "| Loan_ID|Gender|Married|Dependents|   Education|Self_Employed|ApplicantIncome|CoapplicantIncome|LoanAmount|Loan_Amount_Term|Credit_History|Property_Area|Loan_Status|Loan_ID_index|Gender_index|Married_index|Dependents_index|Education_index|Self_Employed_index|Property_Area_index|Loan_Status_index|    Loan_ID_vec|   Gender_vec|  Married_vec|Dependents_vec|Education_vec|Self_Employed_vec|Property_Area_vec|   unscaled_features|            features|\n",
      "+--------+------+-------+----------+------------+-------------+---------------+-----------------+----------+----------------+--------------+-------------+-----------+-------------+------------+-------------+----------------+---------------+-------------------+-------------------+-----------------+---------------+-------------+-------------+--------------+-------------+-----------------+-----------------+--------------------+--------------------+\n",
      "|LP001003|  Male|    Yes|         1|    Graduate|           No|           4583|           1508.0|       128|             360|             1|        Rural|          N|          0.0|         0.0|          0.0|             2.0|            0.0|                0.0|                2.0|              1.0|(410,[0],[1.0])|(3,[0],[1.0])|(3,[0],[1.0])| (5,[2],[1.0])|(3,[0],[1.0])|    (3,[0],[1.0])|    (4,[2],[1.0])|(436,[0,1,2,3,4,5...|[-0.1499017312795...|\n",
      "|LP001005|  Male|    Yes|         0|    Graduate|          Yes|           3000|              0.0|        66|             360|             1|        Urban|          Y|          1.0|         0.0|          0.0|             0.0|            0.0|                1.0|                1.0|              0.0|(410,[1],[1.0])|(3,[0],[1.0])|(3,[0],[1.0])| (5,[0],[1.0])|(3,[0],[1.0])|    (3,[1],[1.0])|    (4,[1],[1.0])|(436,[0,2,3,4,6,4...|[-0.4142610026263...|\n",
      "|LP001008|  Male|     No|         0|    Graduate|           No|           6000|              0.0|       141|             360|             1|        Urban|          Y|          2.0|         0.0|          1.0|             0.0|            0.0|                0.0|                1.0|              0.0|(410,[2],[1.0])|(3,[0],[1.0])|(3,[1],[1.0])| (5,[0],[1.0])|(3,[0],[1.0])|    (3,[0],[1.0])|    (4,[1],[1.0])|(436,[0,2,3,4,7,4...|[0.08673572134108...|\n",
      "|LP001011|  Male|    Yes|         2|    Graduate|          Yes|           5417|           4196.0|       267|             360|             1|        Urban|          Y|          3.0|         0.0|          0.0|             1.0|            0.0|                1.0|                1.0|              0.0|(410,[3],[1.0])|(3,[0],[1.0])|(3,[0],[1.0])| (5,[1],[1.0])|(3,[0],[1.0])|    (3,[1],[1.0])|    (4,[1],[1.0])|(436,[0,1,2,3,4,8...|[-0.0106246420165...|\n",
      "|LP001013|  Male|    Yes|         0|Not Graduate|           No|           2333|           1516.0|        95|             360|             1|        Urban|          Y|          4.0|         0.0|          0.0|             0.0|            1.0|                0.0|                1.0|              0.0|(410,[4],[1.0])|(3,[0],[1.0])|(3,[0],[1.0])| (5,[0],[1.0])|(3,[1],[1.0])|    (3,[0],[1.0])|    (4,[1],[1.0])|(436,[0,1,2,3,4,9...|[-0.5256492742551...|\n",
      "+--------+------+-------+----------+------------+-------------+---------------+-----------------+----------+----------------+--------------+-------------+-----------+-------------+------------+-------------+----------------+---------------+-------------------+-------------------+-----------------+---------------+-------------+-------------+--------------+-------------+-----------------+-----------------+--------------------+--------------------+\n",
      "only showing top 5 rows\n"
     ]
    }
   ],
   "source": [
    "transformed_train_data.show(5)"
   ]
  },
  {
   "cell_type": "code",
   "execution_count": 190,
   "id": "75ec9680-278d-4a84-928b-c424f3551125",
   "metadata": {},
   "outputs": [],
   "source": [
    "test_data = indexer_pipeline_model.transform(test_data)\n",
    "test_data = encoder_pipeline_model.transform(test_data)\n",
    "test_data = assembler.transform(test_data)\n",
    "test_data = scaler_model.transform(test_data)\n"
   ]
  },
  {
   "cell_type": "code",
   "execution_count": 191,
   "id": "a431b0f7-d274-4355-98d5-ca243ba7e249",
   "metadata": {},
   "outputs": [
    {
     "name": "stdout",
     "output_type": "stream",
     "text": [
      "+--------+------+-------+----------+------------+-------------+---------------+-----------------+----------+----------------+--------------+-------------+-----------+-------------+------------+-------------+----------------+---------------+-------------------+-------------------+-----------------+-----------------+-------------+-------------+--------------+-------------+-----------------+-----------------+--------------------+--------------------+\n",
      "| Loan_ID|Gender|Married|Dependents|   Education|Self_Employed|ApplicantIncome|CoapplicantIncome|LoanAmount|Loan_Amount_Term|Credit_History|Property_Area|Loan_Status|Loan_ID_index|Gender_index|Married_index|Dependents_index|Education_index|Self_Employed_index|Property_Area_index|Loan_Status_index|      Loan_ID_vec|   Gender_vec|  Married_vec|Dependents_vec|Education_vec|Self_Employed_vec|Property_Area_vec|   unscaled_features|            features|\n",
      "+--------+------+-------+----------+------------+-------------+---------------+-----------------+----------+----------------+--------------+-------------+-----------+-------------+------------+-------------+----------------+---------------+-------------------+-------------------+-----------------+-----------------+-------------+-------------+--------------+-------------+-----------------+-----------------+--------------------+--------------------+\n",
      "|LP001006|  Male|    Yes|         0|Not Graduate|           No|           2583|           2358.0|       120|             360|             1|        Urban|          Y|        409.0|         0.0|          0.0|             0.0|            1.0|                0.0|                1.0|              0.0|(410,[409],[1.0])|(3,[0],[1.0])|(3,[0],[1.0])| (5,[0],[1.0])|(3,[1],[1.0])|    (3,[0],[1.0])|    (4,[1],[1.0])|(436,[0,1,2,3,4,4...|[-0.4838995472578...|\n",
      "|LP001014|  Male|    Yes|        3+|    Graduate|           No|           3036|           2504.0|       158|             360|             0|    Semiurban|          N|        409.0|         0.0|          0.0|             3.0|            0.0|                0.0|                0.0|              1.0|(410,[409],[1.0])|(3,[0],[1.0])|(3,[0],[1.0])| (5,[3],[1.0])|(3,[0],[1.0])|    (3,[0],[1.0])|    (4,[0],[1.0])|(436,[0,1,2,3,414...|[-0.4082490419387...|\n",
      "|LP001020|  Male|    Yes|         1|    Graduate|           No|          12841|          10968.0|       349|             360|             1|    Semiurban|          N|        409.0|         0.0|          0.0|             2.0|            0.0|                0.0|                0.0|              1.0|(410,[409],[1.0])|(3,[0],[1.0])|(3,[0],[1.0])| (5,[2],[1.0])|(3,[0],[1.0])|    (3,[0],[1.0])|    (4,[0],[1.0])|(436,[0,1,2,3,4,4...|[1.22917525089491...|\n",
      "|LP001032|  Male|     No|         0|    Graduate|           No|           4950|              0.0|       125|             360|             1|        Urban|          Y|        409.0|         0.0|          1.0|             0.0|            0.0|                0.0|                1.0|              0.0|(410,[409],[1.0])|(3,[0],[1.0])|(3,[1],[1.0])| (5,[0],[1.0])|(3,[0],[1.0])|    (3,[0],[1.0])|    (4,[1],[1.0])|(436,[0,2,3,4,414...|[-0.0886131320475...|\n",
      "|LP001066|  Male|    Yes|         0|    Graduate|          Yes|           9560|              0.0|       191|             360|             1|    Semiurban|          Y|        409.0|         0.0|          0.0|             0.0|            0.0|                1.0|                0.0|              0.0|(410,[409],[1.0])|(3,[0],[1.0])|(3,[0],[1.0])| (5,[0],[1.0])|(3,[0],[1.0])|    (3,[1],[1.0])|    (4,[0],[1.0])|(436,[0,2,3,4,414...|[0.68125183378248...|\n",
      "+--------+------+-------+----------+------------+-------------+---------------+-----------------+----------+----------------+--------------+-------------+-----------+-------------+------------+-------------+----------------+---------------+-------------------+-------------------+-----------------+-----------------+-------------+-------------+--------------+-------------+-----------------+-----------------+--------------------+--------------------+\n",
      "only showing top 5 rows\n"
     ]
    }
   ],
   "source": [
    "test_data.show(5)"
   ]
  },
  {
   "cell_type": "code",
   "execution_count": 192,
   "id": "d5f77bfe-7e57-4e4c-8e79-54a06324b273",
   "metadata": {},
   "outputs": [],
   "source": [
    "test_predictions = model.transform(test_data)"
   ]
  },
  {
   "cell_type": "code",
   "execution_count": 193,
   "id": "0b5a9f72-d8f7-433a-9a94-9a5a294bfabc",
   "metadata": {},
   "outputs": [
    {
     "name": "stdout",
     "output_type": "stream",
     "text": [
      "+-----------------+----------+\n",
      "|Loan_Status_index|prediction|\n",
      "+-----------------+----------+\n",
      "|              0.0|       0.0|\n",
      "|              1.0|       1.0|\n",
      "|              1.0|       0.0|\n",
      "|              0.0|       0.0|\n",
      "|              0.0|       0.0|\n",
      "+-----------------+----------+\n",
      "only showing top 5 rows\n"
     ]
    }
   ],
   "source": [
    "test_predictions.select(\"Loan_Status_index\", \"prediction\").show(5)"
   ]
  },
  {
   "cell_type": "code",
   "execution_count": 194,
   "id": "a9e8cb1b-f252-4b84-8293-a39423c77a69",
   "metadata": {},
   "outputs": [
    {
     "name": "stdout",
     "output_type": "stream",
     "text": [
      "Accuracy = 78.87%\n"
     ]
    }
   ],
   "source": [
    "from pyspark.ml.evaluation import MulticlassClassificationEvaluator\n",
    "\n",
    "accuracy_evaluator = MulticlassClassificationEvaluator(labelCol='Loan_Status_index', predictionCol='prediction', metricName='accuracy')\n",
    "accuracy = accuracy_evaluator.evaluate(test_predictions) * 100\n",
    "print(f'Accuracy = {accuracy:.2f}%')"
   ]
  },
  {
   "cell_type": "code",
   "execution_count": 195,
   "id": "5850598a-75ac-4671-9bc3-54f112d3ee9e",
   "metadata": {},
   "outputs": [
    {
     "name": "stdout",
     "output_type": "stream",
     "text": [
      "Precision = 78.95%\n"
     ]
    }
   ],
   "source": [
    "precision_evaluator = MulticlassClassificationEvaluator(labelCol='Loan_Status_index', predictionCol='prediction', metricName='precisionByLabel')\n",
    "precision = precision_evaluator.evaluate(test_predictions) * 100\n",
    "print(f'Precision = {precision:.2f}%')"
   ]
  },
  {
   "cell_type": "code",
   "execution_count": 196,
   "id": "b91c6087-a917-434b-8b29-2fda570bdb14",
   "metadata": {},
   "outputs": [
    {
     "name": "stdout",
     "output_type": "stream",
     "text": [
      "+--------+------+-------+----------+---------+-------------+---------------+-----------------+----------+----------------+--------------+-------------+-----------+\n",
      "| Loan_ID|Gender|Married|Dependents|Education|Self_Employed|ApplicantIncome|CoapplicantIncome|LoanAmount|Loan_Amount_Term|Credit_History|Property_Area|Loan_Status|\n",
      "+--------+------+-------+----------+---------+-------------+---------------+-----------------+----------+----------------+--------------+-------------+-----------+\n",
      "|LP001003|  Male|    Yes|         1| Graduate|           No|           4583|           1508.0|       128|             360|             1|        Rural|          N|\n",
      "|LP001005|  Male|    Yes|         0| Graduate|          Yes|           3000|              0.0|        66|             360|             1|        Urban|          Y|\n",
      "+--------+------+-------+----------+---------+-------------+---------------+-----------------+----------+----------------+--------------+-------------+-----------+\n",
      "only showing top 2 rows\n"
     ]
    }
   ],
   "source": [
    "ph_train_data.show(2)"
   ]
  },
  {
   "cell_type": "code",
   "execution_count": 197,
   "id": "3f27e1fc-3009-4e7f-a533-bcb5a5bce40f",
   "metadata": {},
   "outputs": [],
   "source": [
    "from pyspark.ml.tuning import TrainValidationSplit, ParamGridBuilder\n",
    "\n",
    "from pyspark.ml.evaluation import MulticlassClassificationEvaluator\n",
    "\n",
    "paramGrid = ParamGridBuilder() \\\n",
    "  .addGrid(dtc.maxDepth, [2, 5, 10]) \\\n",
    "  .addGrid(dtc.maxBins, [10, 20, 40]) \\\n",
    "  .addGrid(dtc.minInstancesPerNode, [1, 2, 4]) \\\n",
    "  .build()\n",
    "\n",
    "\n",
    "evaluator = MulticlassClassificationEvaluator(\n",
    "    labelCol='Loan_Status_index',\n",
    "    predictionCol='prediction',\n",
    "    metricName='accuracy'\n",
    ")\n",
    "\n",
    "tvs_model = TrainValidationSplit(\n",
    "    estimator=pipeline,\n",
    "    estimatorParamMaps=paramGrid,\n",
    "    evaluator=evaluator,\n",
    "    seed=42\n",
    ")\n",
    "\n",
    "best_model = tvs_model.fit(ph_train_data)"
   ]
  },
  {
   "cell_type": "code",
   "execution_count": 198,
   "id": "1ba14da6-de6f-447b-ae3b-4728b746ee37",
   "metadata": {},
   "outputs": [],
   "source": [
    "tvs_preds = best_model.transform(ph_test_data)"
   ]
  },
  {
   "cell_type": "code",
   "execution_count": 199,
   "id": "c3af3f5d-546c-43ae-acd3-b705369ef481",
   "metadata": {},
   "outputs": [
    {
     "name": "stdout",
     "output_type": "stream",
     "text": [
      "Accuracy = 71.83%\n"
     ]
    }
   ],
   "source": [
    "accuracy = evaluator.evaluate(tvs_preds) * 100\n",
    "print(f'Accuracy = {accuracy:.2f}%')"
   ]
  },
  {
   "cell_type": "code",
   "execution_count": 200,
   "id": "fd5a958e-c437-4714-b668-1a18b299bd37",
   "metadata": {},
   "outputs": [
    {
     "name": "stdout",
     "output_type": "stream",
     "text": [
      "maxDepth = 2\n",
      "maxBins = 10\n",
      "minInstancesPerNode = 1\n",
      "Accuracy -> 0.7721518987341772\n",
      "maxDepth = 2\n",
      "maxBins = 10\n",
      "minInstancesPerNode = 2\n",
      "Accuracy -> 0.7721518987341772\n",
      "maxDepth = 2\n",
      "maxBins = 10\n",
      "minInstancesPerNode = 4\n",
      "Accuracy -> 0.7721518987341772\n",
      "maxDepth = 2\n",
      "maxBins = 20\n",
      "minInstancesPerNode = 1\n",
      "Accuracy -> 0.7721518987341772\n",
      "maxDepth = 2\n",
      "maxBins = 20\n",
      "minInstancesPerNode = 2\n",
      "Accuracy -> 0.7721518987341772\n",
      "maxDepth = 2\n",
      "maxBins = 20\n",
      "minInstancesPerNode = 4\n",
      "Accuracy -> 0.7721518987341772\n",
      "maxDepth = 2\n",
      "maxBins = 40\n",
      "minInstancesPerNode = 1\n",
      "Accuracy -> 0.7721518987341772\n",
      "maxDepth = 2\n",
      "maxBins = 40\n",
      "minInstancesPerNode = 2\n",
      "Accuracy -> 0.7721518987341772\n",
      "maxDepth = 2\n",
      "maxBins = 40\n",
      "minInstancesPerNode = 4\n",
      "Accuracy -> 0.7721518987341772\n",
      "maxDepth = 5\n",
      "maxBins = 10\n",
      "minInstancesPerNode = 1\n",
      "Accuracy -> 0.7721518987341772\n",
      "maxDepth = 5\n",
      "maxBins = 10\n",
      "minInstancesPerNode = 2\n",
      "Accuracy -> 0.7848101265822784\n",
      "maxDepth = 5\n",
      "maxBins = 10\n",
      "minInstancesPerNode = 4\n",
      "Accuracy -> 0.759493670886076\n",
      "maxDepth = 5\n",
      "maxBins = 20\n",
      "minInstancesPerNode = 1\n",
      "Accuracy -> 0.7848101265822784\n",
      "maxDepth = 5\n",
      "maxBins = 20\n",
      "minInstancesPerNode = 2\n",
      "Accuracy -> 0.810126582278481\n",
      "maxDepth = 5\n",
      "maxBins = 20\n",
      "minInstancesPerNode = 4\n",
      "Accuracy -> 0.759493670886076\n",
      "maxDepth = 5\n",
      "maxBins = 40\n",
      "minInstancesPerNode = 1\n",
      "Accuracy -> 0.7468354430379747\n",
      "maxDepth = 5\n",
      "maxBins = 40\n",
      "minInstancesPerNode = 2\n",
      "Accuracy -> 0.759493670886076\n",
      "maxDepth = 5\n",
      "maxBins = 40\n",
      "minInstancesPerNode = 4\n",
      "Accuracy -> 0.7468354430379747\n",
      "maxDepth = 10\n",
      "maxBins = 10\n",
      "minInstancesPerNode = 1\n",
      "Accuracy -> 0.7974683544303798\n",
      "maxDepth = 10\n",
      "maxBins = 10\n",
      "minInstancesPerNode = 2\n",
      "Accuracy -> 0.6962025316455697\n",
      "maxDepth = 10\n",
      "maxBins = 10\n",
      "minInstancesPerNode = 4\n",
      "Accuracy -> 0.759493670886076\n",
      "maxDepth = 10\n",
      "maxBins = 20\n",
      "minInstancesPerNode = 1\n",
      "Accuracy -> 0.7848101265822784\n",
      "maxDepth = 10\n",
      "maxBins = 20\n",
      "minInstancesPerNode = 2\n",
      "Accuracy -> 0.7468354430379747\n",
      "maxDepth = 10\n",
      "maxBins = 20\n",
      "minInstancesPerNode = 4\n",
      "Accuracy -> 0.7088607594936709\n",
      "maxDepth = 10\n",
      "maxBins = 40\n",
      "minInstancesPerNode = 1\n",
      "Accuracy -> 0.7088607594936709\n",
      "maxDepth = 10\n",
      "maxBins = 40\n",
      "minInstancesPerNode = 2\n",
      "Accuracy -> 0.6835443037974683\n",
      "maxDepth = 10\n",
      "maxBins = 40\n",
      "minInstancesPerNode = 4\n",
      "Accuracy -> 0.7088607594936709\n"
     ]
    }
   ],
   "source": [
    "for param_values, metric_value in zip(paramGrid, best_model.validationMetrics):\n",
    "    for param, value in param_values.items():\n",
    "        print(f'{param.name} = {value}')\n",
    "    print(f'Accuracy -> {metric_value}')"
   ]
  },
  {
   "cell_type": "code",
   "execution_count": null,
   "id": "cd1b77a3-4c5b-40ed-aaed-ffeeae29e354",
   "metadata": {},
   "outputs": [],
   "source": []
  }
 ],
 "metadata": {
  "kernelspec": {
   "display_name": "Python 3 (ipykernel)",
   "language": "python",
   "name": "python3"
  },
  "language_info": {
   "codemirror_mode": {
    "name": "ipython",
    "version": 3
   },
   "file_extension": ".py",
   "mimetype": "text/x-python",
   "name": "python",
   "nbconvert_exporter": "python",
   "pygments_lexer": "ipython3",
   "version": "3.13.5"
  }
 },
 "nbformat": 4,
 "nbformat_minor": 5
}
